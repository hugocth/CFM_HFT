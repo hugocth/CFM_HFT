{
 "cells": [
  {
   "cell_type": "code",
   "execution_count": 1,
   "metadata": {},
   "outputs": [
    {
     "name": "stderr",
     "output_type": "stream",
     "text": [
      "/home/hugocth/.local/lib/python3.8/site-packages/tqdm/auto.py:21: TqdmWarning: IProgress not found. Please update jupyter and ipywidgets. See https://ipywidgets.readthedocs.io/en/stable/user_install.html\n",
      "  from .autonotebook import tqdm as notebook_tqdm\n"
     ]
    }
   ],
   "source": [
    "%load_ext autoreload\n",
    "\n",
    "import pandas as pd, numpy as np, matplotlib.pyplot as plt\n",
    "\n",
    "from sklearn import set_config\n",
    "from sklearn.preprocessing import OneHotEncoder\n",
    "\n",
    "import time\n",
    "from tqdm import tqdm\n",
    "from datetime import datetime\n",
    "\n",
    "import torch\n",
    "from torch import nn\n",
    "from torch.utils.data import Dataset, TensorDataset, DataLoader\n",
    "import torch.nn.init as init\n",
    "\n",
    "from feature_engineering import replace_abnormal, add_features\n",
    "from datasets import ObsDataset, TestDataset, get_dataloaders, random_split, random_k_fold\n",
    "from models import biLSTMClassifier, biGRUClassifier\n",
    "from utils import get_device, init_rnn, EarlyStopper\n",
    "\n",
    "pd.set_option('display.max_rows', 100)\n",
    "set_config(transform_output = 'pandas')\n",
    "pd.options.mode.chained_assignment = None"
   ]
  },
  {
   "cell_type": "code",
   "execution_count": 2,
   "metadata": {},
   "outputs": [],
   "source": [
    "# Import dataset\n",
    "\n",
    "raw_train_data = pd.read_csv(\"data/X_train_N1UvY30.csv\")\n",
    "raw_target_data = pd.read_csv(\"data/y_train_or6m3Ta.csv\")\n",
    "raw_test_data = pd.read_csv(\"data/X_test_m4HAPAP.csv\")"
   ]
  },
  {
   "cell_type": "code",
   "execution_count": 3,
   "metadata": {},
   "outputs": [],
   "source": [
    "def train_loop(dataloader, model, loss_fn, optimizer, epoch, shortcut=0):\n",
    "    size = len(dataloader.dataset)\n",
    "    model.train()\n",
    "    num_batches = len(dataloader)\n",
    "\n",
    "    train_loss = 0\n",
    "    \n",
    "    for batch, (X, y) in enumerate(dataloader):\n",
    "        X = X.to(device)\n",
    "        y = y.to(device)\n",
    "        out = model(X)\n",
    "        \n",
    "        loss = loss_fn(out, y)\n",
    "        train_loss += loss\n",
    "\n",
    "        # Backpropagation\n",
    "        loss.backward()\n",
    "        optimizer.step()\n",
    "        optimizer.zero_grad()\n",
    "        \n",
    "        if out.std() < 0.000001:\n",
    "            print(\"WARNING: std() is zero, stopping\")\n",
    "            break\n",
    "\n",
    "        if shortcut > 0 and batch == shortcut:\n",
    "            return train_loss.detach().cpu().numpy() / shortcut\n",
    "    return train_loss.detach().cpu().numpy() / num_batches\n",
    "\n",
    "\n",
    "def test_loop(dataloader, model, loss_fn, scheduler, epoch, return_acc=True):\n",
    "    model.eval()\n",
    "    size = len(dataloader.dataset)\n",
    "    num_batches = len(dataloader)\n",
    "    test_loss = 0\n",
    "    acc = 0\n",
    "    with torch.no_grad():\n",
    "        for batch, (X, y) in enumerate(dataloader):\n",
    "            X = X.to(device)\n",
    "            y = y.to(device)\n",
    "            out = model(X)\n",
    "            test_loss += loss_fn(out, y).detach().cpu().numpy()\n",
    "            acc += (torch.sum(out.argmax(axis=1) == y)/len(y)).item()\n",
    "\n",
    "        scheduler.step(test_loss)\n",
    "    \n",
    "    if return_acc:\n",
    "        return test_loss / num_batches, acc / num_batches\n",
    "    else:\n",
    "        return test_loss / num_batches\n",
    "\n",
    "def predict(X, model):\n",
    "    model.eval()\n",
    "    with torch.no_grad():\n",
    "        X = X.to(device)\n",
    "        output = model(X)\n",
    "        pred = output.argmax(axis=1)\n",
    "    return pred.detach().cpu().numpy().flatten()\n",
    "\n",
    "def experiment(model, train_dataloader, val_dataloader, epochs, lr):\n",
    "    loss_fn = nn.CrossEntropyLoss()\n",
    "    optimizer = torch.optim.Adam(model.parameters(), lr=lr, weight_decay=0.00001)\n",
    "    scheduler = torch.optim.lr_scheduler.ReduceLROnPlateau(optimizer, 'min', patience=8, factor=0.5, verbose=True)\n",
    "    early_stopper = EarlyStopper(patience=15, min_delta=0.0001)\n",
    "\n",
    "    history = pd.DataFrame([], columns=[\"epoch\",\"train_loss\",\"val_loss\", \"acc\",\"lr\"])\n",
    "\n",
    "    for epoch in range(epochs):\n",
    "        train_loss = train_loop(train_dataloader, model, loss_fn, optimizer, epoch, shortcut=0)\n",
    "        val_loss, acc = test_loop(val_dataloader, model, loss_fn, scheduler, epoch, return_acc=True)\n",
    "\n",
    "        history.loc[len(history),:] = [epoch+1, train_loss, val_loss, acc, optimizer.param_groups[0]['lr']]\n",
    "        \n",
    "        print(f\"Epoch {epoch}/{epochs} | Train loss {train_loss:4f} | Val loss {val_loss:4f} | Acc {acc:4f} | lr {lr}\")\n",
    "\n",
    "        if early_stopper.early_stop(val_loss, acc, model):\n",
    "            model = early_stopper.get_best_model()\n",
    "            break\n",
    "    \n",
    "    # Plot history\n",
    "    fig, ax = plt.subplots((1,2))\n",
    "    ax = ax.flatten()\n",
    "\n",
    "    history[['train_loss', 'val_loss']].plot(title='Losses', ax=ax[0])\n",
    "    history[['acc']].plot(title='Acc', ax=ax[1])\n",
    "    plt.show()\n",
    "\n",
    "    return model\n",
    "\n",
    "class CV_pytorch:\n",
    "\n",
    "    def __init__(self, cv, epochs, verbose=False) -> None:\n",
    "        self.lengths = [1/cv for i in range(cv)]\n",
    "        self.epochs = epochs\n",
    "        self.best_val_losses = []\n",
    "        self.best_accs = []\n",
    "        self.best_models = []\n",
    "        self.histories = []\n",
    "        self.verbose = verbose\n",
    "\n",
    "    def __call__(self, RNN_params, MLP_params, dataset, lr, rnn_type=\"lstm\", embeddings=False, only_one=False):\n",
    "\n",
    "        self.n_folds = len(self.lengths)\n",
    "        \n",
    "        for i, (train_dataset, val_dataset) in enumerate(random_k_fold(dataset, self.lengths)):\n",
    "            train_dataloader = DataLoader(train_dataset, batch_size=batch_size, shuffle=True, drop_last=True)\n",
    "            val_dataloader = DataLoader(val_dataset, batch_size=min(batch_size*4, len(val_dataset)), drop_last=True)\n",
    "            if rnn_type == \"lstm\":\n",
    "                model = biLSTMClassifier(RNN_params, MLP_params, embeddings)\n",
    "            elif rnn_type == \"gru\":\n",
    "                model = biGRUClassifier(RNN_params, MLP_params, embeddings)\n",
    "            model = model.to(device)\n",
    "            if i == 0:\n",
    "                n_parameters = sum(p.numel() for p in model.parameters() if p.requires_grad)\n",
    "                print(\"Number of learnable parameters:\", n_parameters)\n",
    "\n",
    "            if only_one:\n",
    "                print(\"Experiment with only one fold\")\n",
    "                model = experiment(model, train_dataloader, val_dataloader, self.epochs, lr)\n",
    "                return model\n",
    "            \n",
    "            loss_fn = nn.CrossEntropyLoss()\n",
    "            optimizer = torch.optim.Adam(model.parameters(), lr=lr, weight_decay=0.00001)\n",
    "            scheduler = torch.optim.lr_scheduler.ReduceLROnPlateau(optimizer, 'min', patience=8, factor=0.5, verbose=True)\n",
    "            early_stopper = EarlyStopper(patience=15, min_delta=0.0001, verbose=self.verbose)\n",
    "\n",
    "            history = pd.DataFrame([], columns=[\"epoch\",\"train_loss\",\"val_loss\", \"acc\",\"lr\"])\n",
    "\n",
    "            for epoch in tqdm(range(self.epochs), desc=f'Fold {i}'):\n",
    "                train_loss = train_loop(train_dataloader, model, loss_fn, optimizer, epoch, shortcut=0)\n",
    "                val_loss, acc = test_loop(val_dataloader, model, loss_fn, scheduler, epoch, return_acc=True)\n",
    "\n",
    "                history.loc[len(history),:] = [epoch+1, train_loss, val_loss, acc, optimizer.param_groups[0]['lr']]\n",
    "\n",
    "                if early_stopper.early_stop(val_loss, acc, model):\n",
    "                    model = early_stopper.get_best_model()\n",
    "                    break\n",
    "            \n",
    "            print(f\"Best val loss: {early_stopper.min_validation_loss} | Best acc: {early_stopper.best_acc}\")\n",
    "            \n",
    "            self.best_models.append(model)\n",
    "            self.best_val_losses.append(early_stopper.min_validation_loss)\n",
    "            self.best_accs.append(early_stopper.best_acc)\n",
    "            self.histories.append(history)\n",
    "\n",
    "        return self.best_models[np.argmin(self.best_val_losses)]\n",
    "    \n",
    "    def plot_history(self):\n",
    "        metrics = [\"train_loss\",\"val_loss\", \"acc\", \"lr\"]\n",
    "        stats = pd.DataFrame(np.zeros((self.epochs, len(metrics))), columns=metrics)\n",
    "\n",
    "        fig, ax = plt.subplots(1,3, figsize=(15,5))\n",
    "        ax = ax.flatten()\n",
    "\n",
    "        for history in self.histories:\n",
    "            stats[metrics] += history[metrics]\n",
    "        stats = stats/len(self.lengths)\n",
    "        stats[['train_loss', 'val_loss']].plot(title='Avg losses', ax=ax[0])\n",
    "        stats[['acc']].plot(title='Avg val acc', ax=ax[1])\n",
    "        stats[[\"lr\"]].plot(title=\"Avg lr\", ax=ax[2])\n",
    "        plt.show()"
   ]
  },
  {
   "cell_type": "code",
   "execution_count": 4,
   "metadata": {},
   "outputs": [
    {
     "name": "stdout",
     "output_type": "stream",
     "text": [
      "Replaced 41 abnormal observations.\n",
      "Feature engineering completed: 14 features.\n"
     ]
    }
   ],
   "source": [
    "# Dataset\n",
    "\n",
    "device = get_device()\n",
    "print(f\"Using {device}.\")\n",
    "\n",
    "batch_size = 1024\n",
    "embeddings = True # True to encode categorical variables into 8-vector embeddings, False to use one-hot encoding\n",
    "\n",
    "train_data = replace_abnormal(raw_train_data)\n",
    "target_data = raw_target_data\n",
    "train_data, features = add_features(train_data, embeddings=embeddings)\n",
    "x_cols = features[:]\n",
    "full_dataset= ObsDataset(train_data, target_data, x_cols)"
   ]
  },
  {
   "cell_type": "code",
   "execution_count": 10,
   "metadata": {},
   "outputs": [
    {
     "name": "stdout",
     "output_type": "stream",
     "text": [
      "Using cuda:0.\n",
      "Number of learnable parameters: 708808\n"
     ]
    },
    {
     "name": "stderr",
     "output_type": "stream",
     "text": [
      "Fold 0:   1%|          | 1/100 [00:14<24:10, 14.66s/it]"
     ]
    },
    {
     "name": "stdout",
     "output_type": "stream",
     "text": [
      "New best loss: 2.201544\n",
      "Acc: 0.26053292410714285\n"
     ]
    },
    {
     "name": "stderr",
     "output_type": "stream",
     "text": [
      "Fold 0:   2%|▏         | 2/100 [00:29<24:21, 14.91s/it]"
     ]
    },
    {
     "name": "stdout",
     "output_type": "stream",
     "text": [
      "New best loss: 1.816971\n",
      "Acc: 0.38985770089285715\n"
     ]
    },
    {
     "name": "stderr",
     "output_type": "stream",
     "text": [
      "Fold 0:   3%|▎         | 3/100 [00:45<24:22, 15.08s/it]"
     ]
    },
    {
     "name": "stdout",
     "output_type": "stream",
     "text": [
      "New best loss: 1.562160\n",
      "Acc: 0.46505301339285715\n"
     ]
    },
    {
     "name": "stderr",
     "output_type": "stream",
     "text": [
      "Fold 0:   4%|▍         | 4/100 [01:00<24:13, 15.14s/it]"
     ]
    },
    {
     "name": "stdout",
     "output_type": "stream",
     "text": [
      "New best loss: 1.397312\n",
      "Acc: 0.51904296875\n"
     ]
    },
    {
     "name": "stderr",
     "output_type": "stream",
     "text": [
      "Fold 0:   5%|▌         | 5/100 [01:14<23:17, 14.71s/it]"
     ]
    },
    {
     "name": "stdout",
     "output_type": "stream",
     "text": [
      "New best loss: 1.230888\n",
      "Acc: 0.5784388950892857\n"
     ]
    },
    {
     "name": "stderr",
     "output_type": "stream",
     "text": [
      "Fold 0:   6%|▌         | 6/100 [01:27<22:29, 14.36s/it]"
     ]
    },
    {
     "name": "stdout",
     "output_type": "stream",
     "text": [
      "New best loss: 1.147022\n",
      "Acc: 0.609619140625\n"
     ]
    },
    {
     "name": "stderr",
     "output_type": "stream",
     "text": [
      "Fold 0:   7%|▋         | 7/100 [01:41<21:46, 14.05s/it]"
     ]
    },
    {
     "name": "stdout",
     "output_type": "stream",
     "text": [
      "New best loss: 1.076122\n",
      "Acc: 0.6309291294642857\n"
     ]
    },
    {
     "name": "stderr",
     "output_type": "stream",
     "text": [
      "Fold 0:   8%|▊         | 8/100 [01:55<21:25, 13.98s/it]"
     ]
    },
    {
     "name": "stdout",
     "output_type": "stream",
     "text": [
      "New best loss: 1.032195\n",
      "Acc: 0.6492047991071429\n"
     ]
    },
    {
     "name": "stderr",
     "output_type": "stream",
     "text": [
      "Fold 0:   9%|▉         | 9/100 [02:09<21:20, 14.07s/it]"
     ]
    },
    {
     "name": "stdout",
     "output_type": "stream",
     "text": [
      "New best loss: 1.009158\n",
      "Acc: 0.6567034040178571\n"
     ]
    },
    {
     "name": "stderr",
     "output_type": "stream",
     "text": [
      "Fold 0:  10%|█         | 10/100 [02:22<20:50, 13.89s/it]"
     ]
    },
    {
     "name": "stdout",
     "output_type": "stream",
     "text": [
      "New best loss: 0.953746\n",
      "Acc: 0.6751185825892857\n"
     ]
    },
    {
     "name": "stderr",
     "output_type": "stream",
     "text": [
      "Fold 0:  11%|█         | 11/100 [02:36<20:32, 13.85s/it]"
     ]
    },
    {
     "name": "stdout",
     "output_type": "stream",
     "text": [
      "New best loss: 0.944241\n",
      "Acc: 0.6753976004464286\n"
     ]
    },
    {
     "name": "stderr",
     "output_type": "stream",
     "text": [
      "Fold 0:  12%|█▏        | 12/100 [02:50<20:13, 13.79s/it]"
     ]
    },
    {
     "name": "stdout",
     "output_type": "stream",
     "text": [
      "New best loss: 0.907965\n",
      "Acc: 0.6863141741071429\n"
     ]
    },
    {
     "name": "stderr",
     "output_type": "stream",
     "text": [
      "Fold 0:  14%|█▍        | 14/100 [03:17<19:30, 13.61s/it]"
     ]
    },
    {
     "name": "stdout",
     "output_type": "stream",
     "text": [
      "New best loss: 0.897835\n",
      "Acc: 0.6947544642857143\n"
     ]
    },
    {
     "name": "stderr",
     "output_type": "stream",
     "text": [
      "Fold 0:  15%|█▌        | 15/100 [03:30<19:10, 13.53s/it]"
     ]
    },
    {
     "name": "stdout",
     "output_type": "stream",
     "text": [
      "New best loss: 0.892140\n",
      "Acc: 0.6930803571428571\n"
     ]
    },
    {
     "name": "stderr",
     "output_type": "stream",
     "text": [
      "Fold 0:  16%|█▌        | 16/100 [03:43<18:42, 13.37s/it]"
     ]
    },
    {
     "name": "stdout",
     "output_type": "stream",
     "text": [
      "New best loss: 0.865828\n",
      "Acc: 0.7020089285714286\n"
     ]
    },
    {
     "name": "stderr",
     "output_type": "stream",
     "text": [
      "Fold 0:  17%|█▋        | 17/100 [03:56<18:25, 13.32s/it]"
     ]
    },
    {
     "name": "stdout",
     "output_type": "stream",
     "text": [
      "New best loss: 0.862558\n",
      "Acc: 0.7030203683035714\n"
     ]
    },
    {
     "name": "stderr",
     "output_type": "stream",
     "text": [
      "Fold 0:  19%|█▉        | 19/100 [04:23<18:07, 13.42s/it]"
     ]
    },
    {
     "name": "stdout",
     "output_type": "stream",
     "text": [
      "New best loss: 0.818047\n",
      "Acc: 0.719970703125\n"
     ]
    },
    {
     "name": "stderr",
     "output_type": "stream",
     "text": [
      "Fold 0:  20%|██        | 20/100 [04:37<17:44, 13.31s/it]"
     ]
    },
    {
     "name": "stdout",
     "output_type": "stream",
     "text": [
      "New best loss: 0.813164\n",
      "Acc: 0.7198311941964286\n"
     ]
    },
    {
     "name": "stderr",
     "output_type": "stream",
     "text": [
      "Fold 0:  21%|██        | 21/100 [04:50<17:42, 13.45s/it]"
     ]
    },
    {
     "name": "stdout",
     "output_type": "stream",
     "text": [
      "New best loss: 0.811162\n",
      "Acc: 0.719482421875\n"
     ]
    },
    {
     "name": "stderr",
     "output_type": "stream",
     "text": [
      "Fold 0:  23%|██▎       | 23/100 [05:18<17:33, 13.68s/it]"
     ]
    },
    {
     "name": "stdout",
     "output_type": "stream",
     "text": [
      "New best loss: 0.802109\n",
      "Acc: 0.7252022879464286\n"
     ]
    },
    {
     "name": "stderr",
     "output_type": "stream",
     "text": [
      "Fold 0:  25%|██▌       | 25/100 [05:45<16:47, 13.43s/it]"
     ]
    },
    {
     "name": "stdout",
     "output_type": "stream",
     "text": [
      "New best loss: 0.791297\n",
      "Acc: 0.7299107142857143\n"
     ]
    },
    {
     "name": "stderr",
     "output_type": "stream",
     "text": [
      "Fold 0:  26%|██▌       | 26/100 [05:58<16:32, 13.41s/it]"
     ]
    },
    {
     "name": "stdout",
     "output_type": "stream",
     "text": [
      "New best loss: 0.789130\n",
      "Acc: 0.7306082589285714\n"
     ]
    },
    {
     "name": "stderr",
     "output_type": "stream",
     "text": [
      "Fold 0:  27%|██▋       | 27/100 [06:12<16:20, 13.43s/it]"
     ]
    },
    {
     "name": "stdout",
     "output_type": "stream",
     "text": [
      "New best loss: 0.779631\n",
      "Acc: 0.7325962611607143\n"
     ]
    },
    {
     "name": "stderr",
     "output_type": "stream",
     "text": [
      "Fold 0:  28%|██▊       | 28/100 [06:24<15:56, 13.29s/it]"
     ]
    },
    {
     "name": "stdout",
     "output_type": "stream",
     "text": [
      "New best loss: 0.778681\n",
      "Acc: 0.7340611049107143\n"
     ]
    },
    {
     "name": "stderr",
     "output_type": "stream",
     "text": [
      "Fold 0:  30%|███       | 30/100 [06:50<15:06, 12.96s/it]"
     ]
    },
    {
     "name": "stdout",
     "output_type": "stream",
     "text": [
      "New best loss: 0.761582\n",
      "Acc: 0.7410016741071429\n"
     ]
    },
    {
     "name": "stderr",
     "output_type": "stream",
     "text": [
      "Fold 0:  32%|███▏      | 32/100 [07:16<14:48, 13.07s/it]"
     ]
    },
    {
     "name": "stdout",
     "output_type": "stream",
     "text": [
      "New best loss: 0.752516\n",
      "Acc: 0.7438267299107143\n"
     ]
    },
    {
     "name": "stderr",
     "output_type": "stream",
     "text": [
      "Fold 0:  34%|███▍      | 34/100 [07:44<14:45, 13.41s/it]"
     ]
    },
    {
     "name": "stdout",
     "output_type": "stream",
     "text": [
      "New best loss: 0.744180\n",
      "Acc: 0.7491978236607143\n"
     ]
    },
    {
     "name": "stderr",
     "output_type": "stream",
     "text": [
      "Fold 0:  37%|███▋      | 37/100 [08:24<14:12, 13.53s/it]"
     ]
    },
    {
     "name": "stdout",
     "output_type": "stream",
     "text": [
      "New best loss: 0.725393\n",
      "Acc: 0.7544294084821429\n"
     ]
    },
    {
     "name": "stderr",
     "output_type": "stream",
     "text": [
      "Fold 0:  46%|████▌     | 46/100 [10:25<11:56, 13.26s/it]"
     ]
    },
    {
     "name": "stdout",
     "output_type": "stream",
     "text": [
      "New best loss: 0.722307\n",
      "Acc: 0.7556501116071429\n"
     ]
    },
    {
     "name": "stderr",
     "output_type": "stream",
     "text": [
      "Fold 0:  55%|█████▌    | 55/100 [12:26<10:02, 13.40s/it]"
     ]
    },
    {
     "name": "stdout",
     "output_type": "stream",
     "text": [
      "Epoch    55: reducing learning rate of group 0 to 5.0000e-03.\n"
     ]
    },
    {
     "name": "stderr",
     "output_type": "stream",
     "text": [
      "Fold 0:  56%|█████▌    | 56/100 [12:39<09:47, 13.34s/it]"
     ]
    },
    {
     "name": "stdout",
     "output_type": "stream",
     "text": [
      "New best loss: 0.663603\n",
      "Acc: 0.7822265625\n"
     ]
    },
    {
     "name": "stderr",
     "output_type": "stream",
     "text": [
      "Fold 0:  65%|██████▌   | 65/100 [14:39<07:41, 13.17s/it]"
     ]
    },
    {
     "name": "stdout",
     "output_type": "stream",
     "text": [
      "Epoch    65: reducing learning rate of group 0 to 2.5000e-03.\n"
     ]
    },
    {
     "name": "stderr",
     "output_type": "stream",
     "text": [
      "Fold 0:  70%|███████   | 70/100 [15:58<06:50, 13.70s/it]\n"
     ]
    },
    {
     "name": "stdout",
     "output_type": "stream",
     "text": [
      "Best val loss: 0.6636028630392892 | Best acc: 0.7822265625\n"
     ]
    },
    {
     "name": "stderr",
     "output_type": "stream",
     "text": [
      "Fold 1:   1%|          | 1/100 [00:12<21:00, 12.73s/it]"
     ]
    },
    {
     "name": "stdout",
     "output_type": "stream",
     "text": [
      "New best loss: 2.249483\n",
      "Acc: 0.23744419642857142\n"
     ]
    },
    {
     "name": "stderr",
     "output_type": "stream",
     "text": [
      "Fold 1:   2%|▏         | 2/100 [00:26<21:35, 13.22s/it]"
     ]
    },
    {
     "name": "stdout",
     "output_type": "stream",
     "text": [
      "New best loss: 1.906136\n",
      "Acc: 0.36118861607142855\n"
     ]
    },
    {
     "name": "stderr",
     "output_type": "stream",
     "text": [
      "Fold 1:   3%|▎         | 3/100 [00:39<21:14, 13.14s/it]"
     ]
    },
    {
     "name": "stdout",
     "output_type": "stream",
     "text": [
      "New best loss: 1.657005\n",
      "Acc: 0.44192940848214285\n"
     ]
    },
    {
     "name": "stderr",
     "output_type": "stream",
     "text": [
      "Fold 1:   4%|▍         | 4/100 [00:52<21:00, 13.13s/it]"
     ]
    },
    {
     "name": "stdout",
     "output_type": "stream",
     "text": [
      "New best loss: 1.356278\n",
      "Acc: 0.5348423549107143\n"
     ]
    },
    {
     "name": "stderr",
     "output_type": "stream",
     "text": [
      "Fold 1:   5%|▌         | 5/100 [01:05<20:39, 13.04s/it]"
     ]
    },
    {
     "name": "stdout",
     "output_type": "stream",
     "text": [
      "New best loss: 1.245719\n",
      "Acc: 0.5718122209821429\n"
     ]
    },
    {
     "name": "stderr",
     "output_type": "stream",
     "text": [
      "Fold 1:   6%|▌         | 6/100 [01:19<20:49, 13.29s/it]"
     ]
    },
    {
     "name": "stdout",
     "output_type": "stream",
     "text": [
      "New best loss: 1.197188\n",
      "Acc: 0.5868094308035714\n"
     ]
    },
    {
     "name": "stderr",
     "output_type": "stream",
     "text": [
      "Fold 1:   7%|▋         | 7/100 [01:32<20:35, 13.29s/it]"
     ]
    },
    {
     "name": "stdout",
     "output_type": "stream",
     "text": [
      "New best loss: 1.086179\n",
      "Acc: 0.62939453125\n"
     ]
    },
    {
     "name": "stderr",
     "output_type": "stream",
     "text": [
      "Fold 1:   8%|▊         | 8/100 [01:45<20:10, 13.15s/it]"
     ]
    },
    {
     "name": "stdout",
     "output_type": "stream",
     "text": [
      "New best loss: 1.039815\n",
      "Acc: 0.6416364397321429\n"
     ]
    },
    {
     "name": "stderr",
     "output_type": "stream",
     "text": [
      "Fold 1:   9%|▉         | 9/100 [01:59<20:30, 13.52s/it]"
     ]
    },
    {
     "name": "stdout",
     "output_type": "stream",
     "text": [
      "New best loss: 0.995082\n",
      "Acc: 0.6600167410714286\n"
     ]
    },
    {
     "name": "stderr",
     "output_type": "stream",
     "text": [
      "Fold 1:  12%|█▏        | 12/100 [02:38<19:18, 13.16s/it]"
     ]
    },
    {
     "name": "stdout",
     "output_type": "stream",
     "text": [
      "New best loss: 0.939795\n",
      "Acc: 0.6785016741071429\n"
     ]
    },
    {
     "name": "stderr",
     "output_type": "stream",
     "text": [
      "Fold 1:  14%|█▍        | 14/100 [03:05<19:16, 13.45s/it]"
     ]
    },
    {
     "name": "stdout",
     "output_type": "stream",
     "text": [
      "New best loss: 0.909783\n",
      "Acc: 0.6888950892857143\n"
     ]
    },
    {
     "name": "stderr",
     "output_type": "stream",
     "text": [
      "Fold 1:  15%|█▌        | 15/100 [03:20<19:21, 13.67s/it]"
     ]
    },
    {
     "name": "stdout",
     "output_type": "stream",
     "text": [
      "New best loss: 0.877672\n",
      "Acc: 0.7000906808035714\n"
     ]
    },
    {
     "name": "stderr",
     "output_type": "stream",
     "text": [
      "Fold 1:  16%|█▌        | 16/100 [03:33<19:03, 13.61s/it]"
     ]
    },
    {
     "name": "stdout",
     "output_type": "stream",
     "text": [
      "New best loss: 0.867431\n",
      "Acc: 0.7004743303571429\n"
     ]
    },
    {
     "name": "stderr",
     "output_type": "stream",
     "text": [
      "Fold 1:  17%|█▋        | 17/100 [03:46<18:30, 13.38s/it]"
     ]
    },
    {
     "name": "stdout",
     "output_type": "stream",
     "text": [
      "New best loss: 0.840226\n",
      "Acc: 0.7120186941964286\n"
     ]
    },
    {
     "name": "stderr",
     "output_type": "stream",
     "text": [
      "Fold 1:  18%|█▊        | 18/100 [03:59<18:00, 13.17s/it]"
     ]
    },
    {
     "name": "stdout",
     "output_type": "stream",
     "text": [
      "New best loss: 0.835691\n",
      "Acc: 0.7144252232142857\n"
     ]
    },
    {
     "name": "stderr",
     "output_type": "stream",
     "text": [
      "Fold 1:  20%|██        | 20/100 [04:27<18:14, 13.68s/it]"
     ]
    },
    {
     "name": "stdout",
     "output_type": "stream",
     "text": [
      "New best loss: 0.818163\n",
      "Acc: 0.7184709821428571\n"
     ]
    },
    {
     "name": "stderr",
     "output_type": "stream",
     "text": [
      "Fold 1:  21%|██        | 21/100 [04:40<17:52, 13.57s/it]"
     ]
    },
    {
     "name": "stdout",
     "output_type": "stream",
     "text": [
      "New best loss: 0.807261\n",
      "Acc: 0.7232491629464286\n"
     ]
    },
    {
     "name": "stderr",
     "output_type": "stream",
     "text": [
      "Fold 1:  22%|██▏       | 22/100 [04:53<17:32, 13.50s/it]"
     ]
    },
    {
     "name": "stdout",
     "output_type": "stream",
     "text": [
      "New best loss: 0.804968\n",
      "Acc: 0.7244001116071429\n"
     ]
    },
    {
     "name": "stderr",
     "output_type": "stream",
     "text": [
      "Fold 1:  24%|██▍       | 24/100 [05:21<17:08, 13.53s/it]"
     ]
    },
    {
     "name": "stdout",
     "output_type": "stream",
     "text": [
      "New best loss: 0.801543\n",
      "Acc: 0.7251674107142857\n"
     ]
    },
    {
     "name": "stderr",
     "output_type": "stream",
     "text": [
      "Fold 1:  25%|██▌       | 25/100 [05:34<16:53, 13.52s/it]"
     ]
    },
    {
     "name": "stdout",
     "output_type": "stream",
     "text": [
      "New best loss: 0.788552\n",
      "Acc: 0.7282366071428571\n"
     ]
    },
    {
     "name": "stderr",
     "output_type": "stream",
     "text": [
      "Fold 1:  26%|██▌       | 26/100 [05:47<16:33, 13.43s/it]"
     ]
    },
    {
     "name": "stdout",
     "output_type": "stream",
     "text": [
      "New best loss: 0.785493\n",
      "Acc: 0.7306780133928571\n"
     ]
    },
    {
     "name": "stderr",
     "output_type": "stream",
     "text": [
      "Fold 1:  27%|██▋       | 27/100 [06:01<16:19, 13.42s/it]"
     ]
    },
    {
     "name": "stdout",
     "output_type": "stream",
     "text": [
      "New best loss: 0.781476\n",
      "Acc: 0.7324567522321429\n"
     ]
    },
    {
     "name": "stderr",
     "output_type": "stream",
     "text": [
      "Fold 1:  28%|██▊       | 28/100 [06:14<16:12, 13.51s/it]"
     ]
    },
    {
     "name": "stdout",
     "output_type": "stream",
     "text": [
      "New best loss: 0.764311\n",
      "Acc: 0.7389439174107143\n"
     ]
    },
    {
     "name": "stderr",
     "output_type": "stream",
     "text": [
      "Fold 1:  31%|███       | 31/100 [06:55<15:24, 13.40s/it]"
     ]
    },
    {
     "name": "stdout",
     "output_type": "stream",
     "text": [
      "New best loss: 0.764206\n",
      "Acc: 0.7373046875\n"
     ]
    },
    {
     "name": "stderr",
     "output_type": "stream",
     "text": [
      "Fold 1:  32%|███▏      | 32/100 [07:08<14:58, 13.21s/it]"
     ]
    },
    {
     "name": "stdout",
     "output_type": "stream",
     "text": [
      "New best loss: 0.761789\n",
      "Acc: 0.7416294642857143\n"
     ]
    },
    {
     "name": "stderr",
     "output_type": "stream",
     "text": [
      "Fold 1:  33%|███▎      | 33/100 [07:20<14:37, 13.10s/it]"
     ]
    },
    {
     "name": "stdout",
     "output_type": "stream",
     "text": [
      "New best loss: 0.753756\n",
      "Acc: 0.7438267299107143\n"
     ]
    },
    {
     "name": "stderr",
     "output_type": "stream",
     "text": [
      "Fold 1:  34%|███▍      | 34/100 [07:34<14:40, 13.34s/it]"
     ]
    },
    {
     "name": "stdout",
     "output_type": "stream",
     "text": [
      "New best loss: 0.751165\n",
      "Acc: 0.745361328125\n"
     ]
    },
    {
     "name": "stderr",
     "output_type": "stream",
     "text": [
      "Fold 1:  35%|███▌      | 35/100 [07:47<14:20, 13.24s/it]"
     ]
    },
    {
     "name": "stdout",
     "output_type": "stream",
     "text": [
      "New best loss: 0.730059\n",
      "Acc: 0.7549176897321429\n"
     ]
    },
    {
     "name": "stderr",
     "output_type": "stream",
     "text": [
      "Fold 1:  41%|████      | 41/100 [09:06<12:58, 13.20s/it]"
     ]
    },
    {
     "name": "stdout",
     "output_type": "stream",
     "text": [
      "New best loss: 0.727487\n",
      "Acc: 0.7537318638392857\n"
     ]
    },
    {
     "name": "stderr",
     "output_type": "stream",
     "text": [
      "Fold 1:  47%|████▋     | 47/100 [10:24<11:37, 13.16s/it]"
     ]
    },
    {
     "name": "stdout",
     "output_type": "stream",
     "text": [
      "New best loss: 0.709255\n",
      "Acc: 0.7637067522321429\n"
     ]
    },
    {
     "name": "stderr",
     "output_type": "stream",
     "text": [
      "Fold 1:  56%|█████▌    | 56/100 [12:22<09:35, 13.07s/it]"
     ]
    },
    {
     "name": "stdout",
     "output_type": "stream",
     "text": [
      "Epoch    56: reducing learning rate of group 0 to 5.0000e-03.\n"
     ]
    },
    {
     "name": "stderr",
     "output_type": "stream",
     "text": [
      "Fold 1:  58%|█████▊    | 58/100 [12:47<09:02, 12.92s/it]"
     ]
    },
    {
     "name": "stdout",
     "output_type": "stream",
     "text": [
      "New best loss: 0.705038\n",
      "Acc: 0.7761928013392857\n"
     ]
    },
    {
     "name": "stderr",
     "output_type": "stream",
     "text": [
      "Fold 1:  67%|██████▋   | 67/100 [14:43<07:02, 12.80s/it]"
     ]
    },
    {
     "name": "stdout",
     "output_type": "stream",
     "text": [
      "Epoch    67: reducing learning rate of group 0 to 2.5000e-03.\n"
     ]
    },
    {
     "name": "stderr",
     "output_type": "stream",
     "text": [
      "Fold 1:  72%|███████▏  | 72/100 [16:02<06:14, 13.37s/it]\n"
     ]
    },
    {
     "name": "stdout",
     "output_type": "stream",
     "text": [
      "Best val loss: 0.705037806715284 | Best acc: 0.7761928013392857\n"
     ]
    },
    {
     "name": "stderr",
     "output_type": "stream",
     "text": [
      "Fold 2:   1%|          | 1/100 [00:13<21:52, 13.25s/it]"
     ]
    },
    {
     "name": "stdout",
     "output_type": "stream",
     "text": [
      "New best loss: 2.136860\n",
      "Acc: 0.28023856026785715\n"
     ]
    },
    {
     "name": "stderr",
     "output_type": "stream",
     "text": [
      "Fold 2:   2%|▏         | 2/100 [00:26<22:02, 13.49s/it]"
     ]
    },
    {
     "name": "stdout",
     "output_type": "stream",
     "text": [
      "New best loss: 1.698986\n",
      "Acc: 0.4146205357142857\n"
     ]
    },
    {
     "name": "stderr",
     "output_type": "stream",
     "text": [
      "Fold 2:   3%|▎         | 3/100 [00:39<21:30, 13.30s/it]"
     ]
    },
    {
     "name": "stdout",
     "output_type": "stream",
     "text": [
      "New best loss: 1.471304\n",
      "Acc: 0.49874441964285715\n"
     ]
    },
    {
     "name": "stderr",
     "output_type": "stream",
     "text": [
      "Fold 2:   4%|▍         | 4/100 [00:52<20:49, 13.02s/it]"
     ]
    },
    {
     "name": "stdout",
     "output_type": "stream",
     "text": [
      "New best loss: 1.326705\n",
      "Acc: 0.5414341517857143\n"
     ]
    },
    {
     "name": "stderr",
     "output_type": "stream",
     "text": [
      "Fold 2:   5%|▌         | 5/100 [01:05<20:28, 12.93s/it]"
     ]
    },
    {
     "name": "stdout",
     "output_type": "stream",
     "text": [
      "New best loss: 1.185798\n",
      "Acc: 0.5923897879464286\n"
     ]
    },
    {
     "name": "stderr",
     "output_type": "stream",
     "text": [
      "Fold 2:   6%|▌         | 6/100 [01:18<20:19, 12.97s/it]"
     ]
    },
    {
     "name": "stdout",
     "output_type": "stream",
     "text": [
      "New best loss: 1.130344\n",
      "Acc: 0.6150251116071429\n"
     ]
    },
    {
     "name": "stderr",
     "output_type": "stream",
     "text": [
      "Fold 2:   7%|▋         | 7/100 [01:31<20:17, 13.09s/it]"
     ]
    },
    {
     "name": "stdout",
     "output_type": "stream",
     "text": [
      "New best loss: 1.085849\n",
      "Acc: 0.6320103236607143\n"
     ]
    },
    {
     "name": "stderr",
     "output_type": "stream",
     "text": [
      "Fold 2:   8%|▊         | 8/100 [01:45<20:27, 13.34s/it]"
     ]
    },
    {
     "name": "stdout",
     "output_type": "stream",
     "text": [
      "New best loss: 1.042143\n",
      "Acc: 0.6409040178571429\n"
     ]
    },
    {
     "name": "stderr",
     "output_type": "stream",
     "text": [
      "Fold 2:   9%|▉         | 9/100 [01:59<20:27, 13.49s/it]"
     ]
    },
    {
     "name": "stdout",
     "output_type": "stream",
     "text": [
      "New best loss: 0.977649\n",
      "Acc: 0.6640973772321429\n"
     ]
    },
    {
     "name": "stderr",
     "output_type": "stream",
     "text": [
      "Fold 2:  10%|█         | 10/100 [02:12<19:54, 13.28s/it]"
     ]
    },
    {
     "name": "stdout",
     "output_type": "stream",
     "text": [
      "New best loss: 0.972487\n",
      "Acc: 0.668212890625\n"
     ]
    },
    {
     "name": "stderr",
     "output_type": "stream",
     "text": [
      "Fold 2:  11%|█         | 11/100 [02:24<19:22, 13.06s/it]"
     ]
    },
    {
     "name": "stdout",
     "output_type": "stream",
     "text": [
      "New best loss: 0.928556\n",
      "Acc: 0.6817801339285714\n"
     ]
    },
    {
     "name": "stderr",
     "output_type": "stream",
     "text": [
      "Fold 2:  13%|█▎        | 13/100 [02:52<19:29, 13.44s/it]"
     ]
    },
    {
     "name": "stdout",
     "output_type": "stream",
     "text": [
      "New best loss: 0.898729\n",
      "Acc: 0.6856515066964286\n"
     ]
    },
    {
     "name": "stderr",
     "output_type": "stream",
     "text": [
      "Fold 2:  15%|█▌        | 15/100 [03:20<19:32, 13.80s/it]"
     ]
    },
    {
     "name": "stdout",
     "output_type": "stream",
     "text": [
      "New best loss: 0.870127\n",
      "Acc: 0.7012067522321429\n"
     ]
    },
    {
     "name": "stderr",
     "output_type": "stream",
     "text": [
      "Fold 2:  17%|█▋        | 17/100 [03:48<19:11, 13.88s/it]"
     ]
    },
    {
     "name": "stdout",
     "output_type": "stream",
     "text": [
      "New best loss: 0.839179\n",
      "Acc: 0.7084263392857143\n"
     ]
    },
    {
     "name": "stderr",
     "output_type": "stream",
     "text": [
      "Fold 2:  18%|█▊        | 18/100 [04:01<18:34, 13.59s/it]"
     ]
    },
    {
     "name": "stdout",
     "output_type": "stream",
     "text": [
      "New best loss: 0.834793\n",
      "Acc: 0.7106236049107143\n"
     ]
    },
    {
     "name": "stderr",
     "output_type": "stream",
     "text": [
      "Fold 2:  19%|█▉        | 19/100 [04:14<18:05, 13.41s/it]"
     ]
    },
    {
     "name": "stdout",
     "output_type": "stream",
     "text": [
      "New best loss: 0.814516\n",
      "Acc: 0.7186104910714286\n"
     ]
    },
    {
     "name": "stderr",
     "output_type": "stream",
     "text": [
      "Fold 2:  21%|██        | 21/100 [04:40<17:29, 13.28s/it]"
     ]
    },
    {
     "name": "stdout",
     "output_type": "stream",
     "text": [
      "New best loss: 0.813348\n",
      "Acc: 0.7191336495535714\n"
     ]
    },
    {
     "name": "stderr",
     "output_type": "stream",
     "text": [
      "Fold 2:  23%|██▎       | 23/100 [05:06<16:49, 13.11s/it]"
     ]
    },
    {
     "name": "stdout",
     "output_type": "stream",
     "text": [
      "New best loss: 0.810209\n",
      "Acc: 0.7195870535714286\n"
     ]
    },
    {
     "name": "stderr",
     "output_type": "stream",
     "text": [
      "Fold 2:  25%|██▌       | 25/100 [05:33<16:39, 13.32s/it]"
     ]
    },
    {
     "name": "stdout",
     "output_type": "stream",
     "text": [
      "New best loss: 0.804264\n",
      "Acc: 0.7234584263392857\n"
     ]
    },
    {
     "name": "stderr",
     "output_type": "stream",
     "text": [
      "Fold 2:  26%|██▌       | 26/100 [05:46<16:24, 13.30s/it]"
     ]
    },
    {
     "name": "stdout",
     "output_type": "stream",
     "text": [
      "New best loss: 0.788228\n",
      "Acc: 0.7283412388392857\n"
     ]
    },
    {
     "name": "stderr",
     "output_type": "stream",
     "text": [
      "Fold 2:  28%|██▊       | 28/100 [06:13<16:07, 13.44s/it]"
     ]
    },
    {
     "name": "stdout",
     "output_type": "stream",
     "text": [
      "New best loss: 0.780113\n",
      "Acc: 0.7330845424107143\n"
     ]
    },
    {
     "name": "stderr",
     "output_type": "stream",
     "text": [
      "Fold 2:  29%|██▉       | 29/100 [06:27<16:03, 13.57s/it]"
     ]
    },
    {
     "name": "stdout",
     "output_type": "stream",
     "text": [
      "New best loss: 0.766202\n",
      "Acc: 0.7367466517857143\n"
     ]
    },
    {
     "name": "stderr",
     "output_type": "stream",
     "text": [
      "Fold 2:  31%|███       | 31/100 [06:55<15:42, 13.66s/it]"
     ]
    },
    {
     "name": "stdout",
     "output_type": "stream",
     "text": [
      "New best loss: 0.763488\n",
      "Acc: 0.7376534598214286\n"
     ]
    },
    {
     "name": "stderr",
     "output_type": "stream",
     "text": [
      "Fold 2:  32%|███▏      | 32/100 [07:08<15:15, 13.47s/it]"
     ]
    },
    {
     "name": "stdout",
     "output_type": "stream",
     "text": [
      "New best loss: 0.744715\n",
      "Acc: 0.7433035714285714\n"
     ]
    },
    {
     "name": "stderr",
     "output_type": "stream",
     "text": [
      "Fold 2:  34%|███▍      | 34/100 [07:34<14:31, 13.20s/it]"
     ]
    },
    {
     "name": "stdout",
     "output_type": "stream",
     "text": [
      "New best loss: 0.744631\n",
      "Acc: 0.7461635044642857\n"
     ]
    },
    {
     "name": "stderr",
     "output_type": "stream",
     "text": [
      "Fold 2:  37%|███▋      | 37/100 [08:12<13:35, 12.94s/it]"
     ]
    },
    {
     "name": "stdout",
     "output_type": "stream",
     "text": [
      "New best loss: 0.717954\n",
      "Acc: 0.7547433035714286\n"
     ]
    },
    {
     "name": "stderr",
     "output_type": "stream",
     "text": [
      "Fold 2:  42%|████▏     | 42/100 [09:19<12:45, 13.20s/it]"
     ]
    },
    {
     "name": "stdout",
     "output_type": "stream",
     "text": [
      "New best loss: 0.706290\n",
      "Acc: 0.7599748883928571\n"
     ]
    },
    {
     "name": "stderr",
     "output_type": "stream",
     "text": [
      "Fold 2:  51%|█████     | 51/100 [11:20<11:01, 13.50s/it]"
     ]
    },
    {
     "name": "stdout",
     "output_type": "stream",
     "text": [
      "Epoch    51: reducing learning rate of group 0 to 5.0000e-03.\n"
     ]
    },
    {
     "name": "stderr",
     "output_type": "stream",
     "text": [
      "Fold 2:  52%|█████▏    | 52/100 [11:35<11:14, 14.04s/it]"
     ]
    },
    {
     "name": "stdout",
     "output_type": "stream",
     "text": [
      "New best loss: 0.661667\n",
      "Acc: 0.7793317522321429\n"
     ]
    },
    {
     "name": "stderr",
     "output_type": "stream",
     "text": [
      "Fold 2:  61%|██████    | 61/100 [13:35<08:49, 13.57s/it]"
     ]
    },
    {
     "name": "stdout",
     "output_type": "stream",
     "text": [
      "Epoch    61: reducing learning rate of group 0 to 2.5000e-03.\n"
     ]
    },
    {
     "name": "stderr",
     "output_type": "stream",
     "text": [
      "Fold 2:  66%|██████▌   | 66/100 [14:57<07:42, 13.60s/it]\n"
     ]
    },
    {
     "name": "stdout",
     "output_type": "stream",
     "text": [
      "Best val loss: 0.6616666913032532 | Best acc: 0.7793317522321429\n"
     ]
    },
    {
     "name": "stderr",
     "output_type": "stream",
     "text": [
      "Fold 3:   1%|          | 1/100 [00:13<21:51, 13.25s/it]"
     ]
    },
    {
     "name": "stdout",
     "output_type": "stream",
     "text": [
      "New best loss: 2.160206\n",
      "Acc: 0.2901088169642857\n"
     ]
    },
    {
     "name": "stderr",
     "output_type": "stream",
     "text": [
      "Fold 3:   2%|▏         | 2/100 [00:27<22:28, 13.77s/it]"
     ]
    },
    {
     "name": "stdout",
     "output_type": "stream",
     "text": [
      "New best loss: 1.750542\n",
      "Acc: 0.4102260044642857\n"
     ]
    },
    {
     "name": "stderr",
     "output_type": "stream",
     "text": [
      "Fold 3:   3%|▎         | 3/100 [00:40<21:48, 13.49s/it]"
     ]
    },
    {
     "name": "stdout",
     "output_type": "stream",
     "text": [
      "New best loss: 1.518667\n",
      "Acc: 0.478515625\n"
     ]
    },
    {
     "name": "stderr",
     "output_type": "stream",
     "text": [
      "Fold 3:   4%|▍         | 4/100 [00:53<21:27, 13.41s/it]"
     ]
    },
    {
     "name": "stdout",
     "output_type": "stream",
     "text": [
      "New best loss: 1.309894\n",
      "Acc: 0.552978515625\n"
     ]
    },
    {
     "name": "stderr",
     "output_type": "stream",
     "text": [
      "Fold 3:   5%|▌         | 5/100 [01:07<21:27, 13.55s/it]"
     ]
    },
    {
     "name": "stdout",
     "output_type": "stream",
     "text": [
      "New best loss: 1.189866\n",
      "Acc: 0.588623046875\n"
     ]
    },
    {
     "name": "stderr",
     "output_type": "stream",
     "text": [
      "Fold 3:   6%|▌         | 6/100 [01:20<20:53, 13.33s/it]"
     ]
    },
    {
     "name": "stdout",
     "output_type": "stream",
     "text": [
      "New best loss: 1.089220\n",
      "Acc: 0.6315569196428571\n"
     ]
    },
    {
     "name": "stderr",
     "output_type": "stream",
     "text": [
      "Fold 3:   7%|▋         | 7/100 [01:33<20:21, 13.14s/it]"
     ]
    },
    {
     "name": "stdout",
     "output_type": "stream",
     "text": [
      "New best loss: 1.039354\n",
      "Acc: 0.6429966517857143\n"
     ]
    },
    {
     "name": "stderr",
     "output_type": "stream",
     "text": [
      "Fold 3:   8%|▊         | 8/100 [01:46<20:07, 13.12s/it]"
     ]
    },
    {
     "name": "stdout",
     "output_type": "stream",
     "text": [
      "New best loss: 0.998251\n",
      "Acc: 0.6538434709821429\n"
     ]
    },
    {
     "name": "stderr",
     "output_type": "stream",
     "text": [
      "Fold 3:   9%|▉         | 9/100 [01:59<19:53, 13.12s/it]"
     ]
    },
    {
     "name": "stdout",
     "output_type": "stream",
     "text": [
      "New best loss: 0.988323\n",
      "Acc: 0.662353515625\n"
     ]
    },
    {
     "name": "stderr",
     "output_type": "stream",
     "text": [
      "Fold 3:  10%|█         | 10/100 [02:12<19:38, 13.10s/it]"
     ]
    },
    {
     "name": "stdout",
     "output_type": "stream",
     "text": [
      "New best loss: 0.927960\n",
      "Acc: 0.6815011160714286\n"
     ]
    },
    {
     "name": "stderr",
     "output_type": "stream",
     "text": [
      "Fold 3:  11%|█         | 11/100 [02:25<19:26, 13.10s/it]"
     ]
    },
    {
     "name": "stdout",
     "output_type": "stream",
     "text": [
      "New best loss: 0.918510\n",
      "Acc: 0.6863490513392857\n"
     ]
    },
    {
     "name": "stderr",
     "output_type": "stream",
     "text": [
      "Fold 3:  12%|█▏        | 12/100 [02:38<19:19, 13.18s/it]"
     ]
    },
    {
     "name": "stdout",
     "output_type": "stream",
     "text": [
      "New best loss: 0.898277\n",
      "Acc: 0.6912318638392857\n"
     ]
    },
    {
     "name": "stderr",
     "output_type": "stream",
     "text": [
      "Fold 3:  13%|█▎        | 13/100 [02:53<19:33, 13.49s/it]"
     ]
    },
    {
     "name": "stdout",
     "output_type": "stream",
     "text": [
      "New best loss: 0.876649\n",
      "Acc: 0.69775390625\n"
     ]
    },
    {
     "name": "stderr",
     "output_type": "stream",
     "text": [
      "Fold 3:  15%|█▌        | 15/100 [03:20<19:18, 13.63s/it]"
     ]
    },
    {
     "name": "stdout",
     "output_type": "stream",
     "text": [
      "New best loss: 0.857738\n",
      "Acc: 0.70556640625\n"
     ]
    },
    {
     "name": "stderr",
     "output_type": "stream",
     "text": [
      "Fold 3:  16%|█▌        | 16/100 [03:34<19:03, 13.61s/it]"
     ]
    },
    {
     "name": "stdout",
     "output_type": "stream",
     "text": [
      "New best loss: 0.851282\n",
      "Acc: 0.7074148995535714\n"
     ]
    },
    {
     "name": "stderr",
     "output_type": "stream",
     "text": [
      "Fold 3:  17%|█▋        | 17/100 [03:47<18:45, 13.56s/it]"
     ]
    },
    {
     "name": "stdout",
     "output_type": "stream",
     "text": [
      "New best loss: 0.838359\n",
      "Acc: 0.7125069754464286\n"
     ]
    },
    {
     "name": "stderr",
     "output_type": "stream",
     "text": [
      "Fold 3:  18%|█▊        | 18/100 [04:00<18:23, 13.46s/it]"
     ]
    },
    {
     "name": "stdout",
     "output_type": "stream",
     "text": [
      "New best loss: 0.836374\n",
      "Acc: 0.7154366629464286\n"
     ]
    },
    {
     "name": "stderr",
     "output_type": "stream",
     "text": [
      "Fold 3:  19%|█▉        | 19/100 [04:13<17:54, 13.26s/it]"
     ]
    },
    {
     "name": "stdout",
     "output_type": "stream",
     "text": [
      "New best loss: 0.814892\n",
      "Acc: 0.7196568080357143\n"
     ]
    },
    {
     "name": "stderr",
     "output_type": "stream",
     "text": [
      "Fold 3:  20%|██        | 20/100 [04:27<18:02, 13.54s/it]"
     ]
    },
    {
     "name": "stdout",
     "output_type": "stream",
     "text": [
      "New best loss: 0.812358\n",
      "Acc: 0.720458984375\n"
     ]
    },
    {
     "name": "stderr",
     "output_type": "stream",
     "text": [
      "Fold 3:  21%|██        | 21/100 [04:40<17:32, 13.33s/it]"
     ]
    },
    {
     "name": "stdout",
     "output_type": "stream",
     "text": [
      "New best loss: 0.803169\n",
      "Acc: 0.7238071986607143\n"
     ]
    },
    {
     "name": "stderr",
     "output_type": "stream",
     "text": [
      "Fold 3:  23%|██▎       | 23/100 [05:07<17:03, 13.29s/it]"
     ]
    },
    {
     "name": "stdout",
     "output_type": "stream",
     "text": [
      "New best loss: 0.781793\n",
      "Acc: 0.7315848214285714\n"
     ]
    },
    {
     "name": "stderr",
     "output_type": "stream",
     "text": [
      "Fold 3:  25%|██▌       | 25/100 [05:32<16:22, 13.10s/it]"
     ]
    },
    {
     "name": "stdout",
     "output_type": "stream",
     "text": [
      "New best loss: 0.766592\n",
      "Acc: 0.7335728236607143\n"
     ]
    },
    {
     "name": "stderr",
     "output_type": "stream",
     "text": [
      "Fold 3:  26%|██▌       | 26/100 [05:47<16:34, 13.44s/it]"
     ]
    },
    {
     "name": "stdout",
     "output_type": "stream",
     "text": [
      "New best loss: 0.757814\n",
      "Acc: 0.7378627232142857\n"
     ]
    },
    {
     "name": "stderr",
     "output_type": "stream",
     "text": [
      "Fold 3:  27%|██▋       | 27/100 [06:00<16:10, 13.30s/it]"
     ]
    },
    {
     "name": "stdout",
     "output_type": "stream",
     "text": [
      "New best loss: 0.755918\n",
      "Acc: 0.7401646205357143\n"
     ]
    },
    {
     "name": "stderr",
     "output_type": "stream",
     "text": [
      "Fold 3:  29%|██▉       | 29/100 [06:26<15:42, 13.27s/it]"
     ]
    },
    {
     "name": "stdout",
     "output_type": "stream",
     "text": [
      "New best loss: 0.746756\n",
      "Acc: 0.742919921875\n"
     ]
    },
    {
     "name": "stderr",
     "output_type": "stream",
     "text": [
      "Fold 3:  31%|███       | 31/100 [06:53<15:23, 13.39s/it]"
     ]
    },
    {
     "name": "stdout",
     "output_type": "stream",
     "text": [
      "New best loss: 0.728696\n",
      "Acc: 0.7485002790178571\n"
     ]
    },
    {
     "name": "stderr",
     "output_type": "stream",
     "text": [
      "Fold 3:  33%|███▎      | 33/100 [07:20<15:05, 13.51s/it]"
     ]
    },
    {
     "name": "stdout",
     "output_type": "stream",
     "text": [
      "New best loss: 0.721086\n",
      "Acc: 0.7514997209821429\n"
     ]
    },
    {
     "name": "stderr",
     "output_type": "stream",
     "text": [
      "Fold 3:  35%|███▌      | 35/100 [07:47<14:30, 13.39s/it]"
     ]
    },
    {
     "name": "stdout",
     "output_type": "stream",
     "text": [
      "New best loss: 0.720138\n",
      "Acc: 0.7525460379464286\n"
     ]
    },
    {
     "name": "stderr",
     "output_type": "stream",
     "text": [
      "Fold 3:  40%|████      | 40/100 [08:55<13:27, 13.46s/it]"
     ]
    },
    {
     "name": "stdout",
     "output_type": "stream",
     "text": [
      "New best loss: 0.713080\n",
      "Acc: 0.75439453125\n"
     ]
    },
    {
     "name": "stderr",
     "output_type": "stream",
     "text": [
      "Fold 3:  42%|████▏     | 42/100 [09:20<12:41, 13.12s/it]"
     ]
    },
    {
     "name": "stdout",
     "output_type": "stream",
     "text": [
      "New best loss: 0.705248\n",
      "Acc: 0.7607421875\n"
     ]
    },
    {
     "name": "stderr",
     "output_type": "stream",
     "text": [
      "Fold 3:  46%|████▌     | 46/100 [10:16<12:12, 13.56s/it]"
     ]
    },
    {
     "name": "stdout",
     "output_type": "stream",
     "text": [
      "New best loss: 0.696679\n",
      "Acc: 0.7658342633928571\n"
     ]
    },
    {
     "name": "stderr",
     "output_type": "stream",
     "text": [
      "Fold 3:  55%|█████▌    | 55/100 [12:16<10:01, 13.37s/it]"
     ]
    },
    {
     "name": "stdout",
     "output_type": "stream",
     "text": [
      "Epoch    55: reducing learning rate of group 0 to 5.0000e-03.\n"
     ]
    },
    {
     "name": "stderr",
     "output_type": "stream",
     "text": [
      "Fold 3:  56%|█████▌    | 56/100 [12:29<09:42, 13.24s/it]"
     ]
    },
    {
     "name": "stdout",
     "output_type": "stream",
     "text": [
      "New best loss: 0.664101\n",
      "Acc: 0.7800990513392857\n"
     ]
    },
    {
     "name": "stderr",
     "output_type": "stream",
     "text": [
      "Fold 3:  65%|██████▌   | 65/100 [14:33<07:59, 13.70s/it]"
     ]
    },
    {
     "name": "stdout",
     "output_type": "stream",
     "text": [
      "Epoch    65: reducing learning rate of group 0 to 2.5000e-03.\n"
     ]
    },
    {
     "name": "stderr",
     "output_type": "stream",
     "text": [
      "Fold 3:  70%|███████   | 70/100 [15:56<06:50, 13.67s/it]\n"
     ]
    },
    {
     "name": "stdout",
     "output_type": "stream",
     "text": [
      "Best val loss: 0.6641013026237488 | Best acc: 0.7800990513392857\n"
     ]
    },
    {
     "name": "stderr",
     "output_type": "stream",
     "text": [
      "Fold 4:   1%|          | 1/100 [00:14<23:08, 14.03s/it]"
     ]
    },
    {
     "name": "stdout",
     "output_type": "stream",
     "text": [
      "New best loss: 2.159035\n",
      "Acc: 0.26876395089285715\n"
     ]
    },
    {
     "name": "stderr",
     "output_type": "stream",
     "text": [
      "Fold 4:   2%|▏         | 2/100 [00:27<22:36, 13.84s/it]"
     ]
    },
    {
     "name": "stdout",
     "output_type": "stream",
     "text": [
      "New best loss: 1.769033\n",
      "Acc: 0.3985072544642857\n"
     ]
    },
    {
     "name": "stderr",
     "output_type": "stream",
     "text": [
      "Fold 4:   3%|▎         | 3/100 [00:40<21:48, 13.49s/it]"
     ]
    },
    {
     "name": "stdout",
     "output_type": "stream",
     "text": [
      "New best loss: 1.481831\n",
      "Acc: 0.4937220982142857\n"
     ]
    },
    {
     "name": "stderr",
     "output_type": "stream",
     "text": [
      "Fold 4:   4%|▍         | 4/100 [00:53<21:11, 13.24s/it]"
     ]
    },
    {
     "name": "stdout",
     "output_type": "stream",
     "text": [
      "New best loss: 1.300062\n",
      "Acc: 0.5545479910714286\n"
     ]
    },
    {
     "name": "stderr",
     "output_type": "stream",
     "text": [
      "Fold 4:   5%|▌         | 5/100 [01:06<20:49, 13.15s/it]"
     ]
    },
    {
     "name": "stdout",
     "output_type": "stream",
     "text": [
      "New best loss: 1.163905\n",
      "Acc: 0.6078055245535714\n"
     ]
    },
    {
     "name": "stderr",
     "output_type": "stream",
     "text": [
      "Fold 4:   6%|▌         | 6/100 [01:19<20:17, 12.95s/it]"
     ]
    },
    {
     "name": "stdout",
     "output_type": "stream",
     "text": [
      "New best loss: 1.107281\n",
      "Acc: 0.6212332589285714\n"
     ]
    },
    {
     "name": "stderr",
     "output_type": "stream",
     "text": [
      "Fold 4:   7%|▋         | 7/100 [01:32<20:24, 13.17s/it]"
     ]
    },
    {
     "name": "stdout",
     "output_type": "stream",
     "text": [
      "New best loss: 1.078620\n",
      "Acc: 0.6296735491071429\n"
     ]
    },
    {
     "name": "stderr",
     "output_type": "stream",
     "text": [
      "Fold 4:   8%|▊         | 8/100 [01:46<20:21, 13.28s/it]"
     ]
    },
    {
     "name": "stdout",
     "output_type": "stream",
     "text": [
      "New best loss: 1.030004\n",
      "Acc: 0.6465541294642857\n"
     ]
    },
    {
     "name": "stderr",
     "output_type": "stream",
     "text": [
      "Fold 4:   9%|▉         | 9/100 [02:00<20:19, 13.40s/it]"
     ]
    },
    {
     "name": "stdout",
     "output_type": "stream",
     "text": [
      "New best loss: 1.016398\n",
      "Acc: 0.6507393973214286\n"
     ]
    },
    {
     "name": "stderr",
     "output_type": "stream",
     "text": [
      "Fold 4:  10%|█         | 10/100 [02:13<20:02, 13.37s/it]"
     ]
    },
    {
     "name": "stdout",
     "output_type": "stream",
     "text": [
      "New best loss: 0.972830\n",
      "Acc: 0.6642717633928571\n"
     ]
    },
    {
     "name": "stderr",
     "output_type": "stream",
     "text": [
      "Fold 4:  11%|█         | 11/100 [02:27<20:01, 13.50s/it]"
     ]
    },
    {
     "name": "stdout",
     "output_type": "stream",
     "text": [
      "New best loss: 0.937009\n",
      "Acc: 0.6775251116071429\n"
     ]
    },
    {
     "name": "stderr",
     "output_type": "stream",
     "text": [
      "Fold 4:  12%|█▏        | 12/100 [02:41<20:04, 13.68s/it]"
     ]
    },
    {
     "name": "stdout",
     "output_type": "stream",
     "text": [
      "New best loss: 0.928371\n",
      "Acc: 0.6817452566964286\n"
     ]
    },
    {
     "name": "stderr",
     "output_type": "stream",
     "text": [
      "Fold 4:  13%|█▎        | 13/100 [02:55<20:03, 13.84s/it]"
     ]
    },
    {
     "name": "stdout",
     "output_type": "stream",
     "text": [
      "New best loss: 0.925973\n",
      "Acc: 0.6812220982142857\n"
     ]
    },
    {
     "name": "stderr",
     "output_type": "stream",
     "text": [
      "Fold 4:  14%|█▍        | 14/100 [03:08<19:38, 13.70s/it]"
     ]
    },
    {
     "name": "stdout",
     "output_type": "stream",
     "text": [
      "New best loss: 0.885291\n",
      "Acc: 0.6978585379464286\n"
     ]
    },
    {
     "name": "stderr",
     "output_type": "stream",
     "text": [
      "Fold 4:  16%|█▌        | 16/100 [03:36<19:17, 13.78s/it]"
     ]
    },
    {
     "name": "stdout",
     "output_type": "stream",
     "text": [
      "New best loss: 0.856441\n",
      "Acc: 0.7055315290178571\n"
     ]
    },
    {
     "name": "stderr",
     "output_type": "stream",
     "text": [
      "Fold 4:  17%|█▋        | 17/100 [03:50<19:15, 13.92s/it]"
     ]
    },
    {
     "name": "stdout",
     "output_type": "stream",
     "text": [
      "New best loss: 0.855392\n",
      "Acc: 0.7051478794642857\n"
     ]
    },
    {
     "name": "stderr",
     "output_type": "stream",
     "text": [
      "Fold 4:  18%|█▊        | 18/100 [04:04<18:52, 13.81s/it]"
     ]
    },
    {
     "name": "stdout",
     "output_type": "stream",
     "text": [
      "New best loss: 0.848046\n",
      "Acc: 0.7101353236607143\n"
     ]
    },
    {
     "name": "stderr",
     "output_type": "stream",
     "text": [
      "Fold 4:  19%|█▉        | 19/100 [04:18<18:42, 13.86s/it]"
     ]
    },
    {
     "name": "stdout",
     "output_type": "stream",
     "text": [
      "New best loss: 0.845162\n",
      "Acc: 0.7081473214285714\n"
     ]
    },
    {
     "name": "stderr",
     "output_type": "stream",
     "text": [
      "Fold 4:  20%|██        | 20/100 [04:31<18:24, 13.81s/it]"
     ]
    },
    {
     "name": "stdout",
     "output_type": "stream",
     "text": [
      "New best loss: 0.839925\n",
      "Acc: 0.7143903459821429\n"
     ]
    },
    {
     "name": "stderr",
     "output_type": "stream",
     "text": [
      "Fold 4:  21%|██        | 21/100 [04:44<17:53, 13.59s/it]"
     ]
    },
    {
     "name": "stdout",
     "output_type": "stream",
     "text": [
      "New best loss: 0.822454\n",
      "Acc: 0.7190638950892857\n"
     ]
    },
    {
     "name": "stderr",
     "output_type": "stream",
     "text": [
      "Fold 4:  22%|██▏       | 22/100 [04:58<17:43, 13.64s/it]"
     ]
    },
    {
     "name": "stdout",
     "output_type": "stream",
     "text": [
      "New best loss: 0.798628\n",
      "Acc: 0.727294921875\n"
     ]
    },
    {
     "name": "stderr",
     "output_type": "stream",
     "text": [
      "Fold 4:  25%|██▌       | 25/100 [05:39<16:54, 13.52s/it]"
     ]
    },
    {
     "name": "stdout",
     "output_type": "stream",
     "text": [
      "New best loss: 0.773581\n",
      "Acc: 0.7352818080357143\n"
     ]
    },
    {
     "name": "stderr",
     "output_type": "stream",
     "text": [
      "Fold 4:  26%|██▌       | 26/100 [05:52<16:34, 13.44s/it]"
     ]
    },
    {
     "name": "stdout",
     "output_type": "stream",
     "text": [
      "New best loss: 0.763917\n",
      "Acc: 0.7415945870535714\n"
     ]
    },
    {
     "name": "stderr",
     "output_type": "stream",
     "text": [
      "Fold 4:  28%|██▊       | 28/100 [06:19<16:05, 13.41s/it]"
     ]
    },
    {
     "name": "stdout",
     "output_type": "stream",
     "text": [
      "New best loss: 0.753303\n",
      "Acc: 0.7433733258928571\n"
     ]
    },
    {
     "name": "stderr",
     "output_type": "stream",
     "text": [
      "Fold 4:  31%|███       | 31/100 [07:00<15:40, 13.62s/it]"
     ]
    },
    {
     "name": "stdout",
     "output_type": "stream",
     "text": [
      "New best loss: 0.742433\n",
      "Acc: 0.7499302455357143\n"
     ]
    },
    {
     "name": "stderr",
     "output_type": "stream",
     "text": [
      "Fold 4:  32%|███▏      | 32/100 [07:14<15:30, 13.69s/it]"
     ]
    },
    {
     "name": "stdout",
     "output_type": "stream",
     "text": [
      "New best loss: 0.740230\n",
      "Acc: 0.7479422433035714\n"
     ]
    },
    {
     "name": "stderr",
     "output_type": "stream",
     "text": [
      "Fold 4:  33%|███▎      | 33/100 [07:27<15:10, 13.58s/it]"
     ]
    },
    {
     "name": "stdout",
     "output_type": "stream",
     "text": [
      "New best loss: 0.725243\n",
      "Acc: 0.7521275111607143\n"
     ]
    },
    {
     "name": "stderr",
     "output_type": "stream",
     "text": [
      "Fold 4:  37%|███▋      | 37/100 [08:21<14:11, 13.51s/it]"
     ]
    },
    {
     "name": "stdout",
     "output_type": "stream",
     "text": [
      "New best loss: 0.719370\n",
      "Acc: 0.7571498325892857\n"
     ]
    },
    {
     "name": "stderr",
     "output_type": "stream",
     "text": [
      "Fold 4:  38%|███▊      | 38/100 [08:34<13:46, 13.32s/it]"
     ]
    },
    {
     "name": "stdout",
     "output_type": "stream",
     "text": [
      "New best loss: 0.713017\n",
      "Acc: 0.7600446428571429\n"
     ]
    },
    {
     "name": "stderr",
     "output_type": "stream",
     "text": [
      "Fold 4:  40%|████      | 40/100 [09:01<13:24, 13.41s/it]"
     ]
    },
    {
     "name": "stdout",
     "output_type": "stream",
     "text": [
      "New best loss: 0.707684\n",
      "Acc: 0.7614397321428571\n"
     ]
    },
    {
     "name": "stderr",
     "output_type": "stream",
     "text": [
      "Fold 4:  45%|████▌     | 45/100 [10:07<12:03, 13.15s/it]"
     ]
    },
    {
     "name": "stdout",
     "output_type": "stream",
     "text": [
      "New best loss: 0.699892\n",
      "Acc: 0.7622767857142857\n"
     ]
    },
    {
     "name": "stderr",
     "output_type": "stream",
     "text": [
      "Fold 4:  50%|█████     | 50/100 [11:14<11:07, 13.35s/it]"
     ]
    },
    {
     "name": "stdout",
     "output_type": "stream",
     "text": [
      "New best loss: 0.688818\n",
      "Acc: 0.7699497767857143\n"
     ]
    },
    {
     "name": "stderr",
     "output_type": "stream",
     "text": [
      "Fold 4:  59%|█████▉    | 59/100 [13:14<09:01, 13.21s/it]"
     ]
    },
    {
     "name": "stdout",
     "output_type": "stream",
     "text": [
      "Epoch    59: reducing learning rate of group 0 to 5.0000e-03.\n"
     ]
    },
    {
     "name": "stderr",
     "output_type": "stream",
     "text": [
      "Fold 4:  60%|██████    | 60/100 [13:28<08:57, 13.44s/it]"
     ]
    },
    {
     "name": "stdout",
     "output_type": "stream",
     "text": [
      "New best loss: 0.669035\n",
      "Acc: 0.7870396205357143\n"
     ]
    },
    {
     "name": "stderr",
     "output_type": "stream",
     "text": [
      "Fold 4:  69%|██████▉   | 69/100 [15:28<06:49, 13.21s/it]"
     ]
    },
    {
     "name": "stdout",
     "output_type": "stream",
     "text": [
      "Epoch    69: reducing learning rate of group 0 to 2.5000e-03.\n"
     ]
    },
    {
     "name": "stderr",
     "output_type": "stream",
     "text": [
      "Fold 4:  74%|███████▍  | 74/100 [16:47<05:54, 13.62s/it]\n"
     ]
    },
    {
     "name": "stdout",
     "output_type": "stream",
     "text": [
      "Best val loss: 0.6690346002578735 | Best acc: 0.7870396205357143\n"
     ]
    },
    {
     "data": {
      "image/png": "[encoded data removed]",
      "text/plain": [
       "<Figure size 1500x500 with 3 Axes>"
      ]
     },
     "metadata": {},
     "output_type": "display_data"
    }
   ],
   "source": [
    "## LSTM\n",
    "\n",
    "%autoreload\n",
    "\n",
    "n_folds = 5\n",
    "epochs = 100\n",
    "lr = 0.01\n",
    "            \n",
    "LSTM_params = {\n",
    "    \"input_size\":len(x_cols) if not embeddings else len(x_cols)-3 + 3*8,\n",
    "    \"hidden_size\":128,\n",
    "    \"num_layers\":2,\n",
    "    \"bidirectional\":True,\n",
    "    \"dropout\":0,\n",
    "}\n",
    "\n",
    "MLP_params = {\n",
    "    \"in_features\":LSTM_params[\"hidden_size\"],\n",
    "    \"n_layers\":2, # max 3\n",
    "    \"out_features\":24,\n",
    "}\n",
    "\n",
    "cross_validator = CV_pytorch(cv=n_folds, epochs=epochs, verbose=True)\n",
    "model = cross_validator(LSTM_params, MLP_params, full_dataset, lr=lr, rnn_type=\"lstm\", embeddings=embeddings, only_one=False)\n",
    "cross_validator.plot_history()"
   ]
  },
  {
   "cell_type": "code",
   "execution_count": 12,
   "metadata": {},
   "outputs": [
    {
     "data": {
      "text/plain": [
       "[   epoch train_loss  val_loss       acc      lr\n",
       " 0      1   2.669171  2.201544  0.260533    0.01\n",
       " 1      2   2.035541  1.816971  0.389858    0.01\n",
       " 2      3   1.663271   1.56216  0.465053    0.01\n",
       " 3      4   1.441927  1.397312  0.519043    0.01\n",
       " 4      5   1.291285  1.230888  0.578439    0.01\n",
       " 5      6   1.165037  1.147022  0.609619    0.01\n",
       " 6      7   1.074432  1.076122  0.630929    0.01\n",
       " 7      8   1.009772  1.032195  0.649205    0.01\n",
       " 8      9   0.970005  1.009158  0.656703    0.01\n",
       " 9     10   0.936379  0.953746  0.675119    0.01\n",
       " 10    11   0.898361  0.944241  0.675398    0.01\n",
       " 11    12   0.883502  0.907965  0.686314    0.01\n",
       " 12    13    0.84948  0.912351  0.689488    0.01\n",
       " 13    14   0.827542  0.897835  0.694754    0.01\n",
       " 14    15   0.807269   0.89214   0.69308    0.01\n",
       " 15    16     0.7907  0.865828  0.702009    0.01\n",
       " 16    17   0.772879  0.862558   0.70302    0.01\n",
       " 17    18   0.756661  0.870658  0.699149    0.01\n",
       " 18    19   0.753473  0.818047  0.719971    0.01\n",
       " 19    20   0.733187  0.813164  0.719831    0.01\n",
       " 20    21   0.720104  0.811162  0.719482    0.01\n",
       " 21    22     0.7136  0.828145  0.716448    0.01\n",
       " 22    23   0.697679  0.802109  0.725202    0.01\n",
       " 23    24   0.685807  0.821313  0.722517    0.01\n",
       " 24    25   0.675774  0.791297  0.729911    0.01\n",
       " 25    26   0.668792   0.78913  0.730608    0.01\n",
       " 26    27   0.651407  0.779631  0.732596    0.01\n",
       " 27    28   0.644683  0.778681  0.734061    0.01\n",
       " 28    29   0.636321  0.790011  0.733398    0.01\n",
       " 29    30   0.623479  0.761582  0.741002    0.01\n",
       " 30    31    0.62528  0.782953   0.73291    0.01\n",
       " 31    32   0.611154  0.752516  0.743827    0.01\n",
       " 32    33    0.59605  0.760188  0.742606    0.01\n",
       " 33    34    0.59484   0.74418  0.749198    0.01\n",
       " 34    35   0.586253  0.756118  0.745152    0.01\n",
       " 35    36   0.577017  0.756737  0.745187    0.01\n",
       " 36    37   0.572597  0.725393  0.754429    0.01\n",
       " 37    38   0.561068   0.73321  0.749651    0.01\n",
       " 38    39   0.561226  0.767322  0.742222    0.01\n",
       " 39    40   0.556239  0.761175  0.746756    0.01\n",
       " 40    41   0.548144  0.730927  0.753906    0.01\n",
       " 41    42   0.542912  0.725589   0.75579    0.01\n",
       " 42    43   0.540198   0.74689  0.750209    0.01\n",
       " 43    44   0.528035  0.745469  0.749895    0.01\n",
       " 44    45   0.525177  0.730344  0.757045    0.01\n",
       " 45    46   0.520474  0.722307   0.75565    0.01\n",
       " 46    47   0.516243  0.738757   0.75272    0.01\n",
       " 47    48    0.51319  0.730017   0.75422    0.01\n",
       " 48    49   0.501326  0.746652  0.753592    0.01\n",
       " 49    50   0.502037  0.727375  0.759905    0.01\n",
       " 50    51   0.498351  0.754753  0.752232    0.01\n",
       " 51    52   0.492839  0.736002  0.756138    0.01\n",
       " 52    53   0.492241  0.739352  0.756243    0.01\n",
       " 53    54   0.483312  0.739442  0.754116    0.01\n",
       " 54    55   0.482594  0.723781  0.759661   0.005\n",
       " 55    56   0.389339  0.663603  0.782227   0.005\n",
       " 56    57   0.355495  0.690926  0.775809   0.005\n",
       " 57    58   0.345223  0.708967  0.775565   0.005\n",
       " 58    59   0.339348   0.72452  0.772042   0.005\n",
       " 59    60   0.333043  0.726489  0.773682   0.005\n",
       " 60    61    0.32882      0.73  0.774065   0.005\n",
       " 61    62   0.325173  0.728386  0.772879   0.005\n",
       " 62    63   0.316505  0.749178  0.769182   0.005\n",
       " 63    64    0.31829  0.751698  0.769078   0.005\n",
       " 64    65   0.308436  0.769021  0.768241  0.0025\n",
       " 65    66    0.24952  0.750602  0.777623  0.0025\n",
       " 66    67   0.228162  0.778191   0.77117  0.0025\n",
       " 67    68   0.219765  0.784732   0.77417  0.0025\n",
       " 68    69   0.210266  0.805091  0.772496  0.0025\n",
       " 69    70    0.20642  0.812139  0.771798  0.0025\n",
       " 70    71   0.200471  0.828003   0.76995  0.0025,\n",
       "    epoch train_loss  val_loss       acc      lr\n",
       " 0      1   2.653005  2.249483  0.237444    0.01\n",
       " 1      2   2.059055  1.906136  0.361189    0.01\n",
       " 2      3   1.699707  1.657005  0.441929    0.01\n",
       " 3      4   1.450023  1.356278  0.534842    0.01\n",
       " 4      5   1.308822  1.245719  0.571812    0.01\n",
       " 5      6   1.200566  1.197188  0.586809    0.01\n",
       " 6      7    1.10902  1.086179  0.629395    0.01\n",
       " 7      8   1.059077  1.039815  0.641636    0.01\n",
       " 8      9    1.00006  0.995082  0.660017    0.01\n",
       " 9     10   0.971532  1.026662  0.644392    0.01\n",
       " 10    11    0.93284  1.001044   0.65904    0.01\n",
       " 11    12   0.906671  0.939795  0.678502    0.01\n",
       " 12    13   0.865105  0.940064  0.681048    0.01\n",
       " 13    14   0.848034  0.909783  0.688895    0.01\n",
       " 14    15    0.82394  0.877672  0.700091    0.01\n",
       " 15    16    0.81242  0.867431  0.700474    0.01\n",
       " 16    17   0.787113  0.840226  0.712019    0.01\n",
       " 17    18   0.766247  0.835691  0.714425    0.01\n",
       " 18    19   0.753037  0.839514  0.712542    0.01\n",
       " 19    20   0.736925  0.818163  0.718471    0.01\n",
       " 20    21   0.723083  0.807261  0.723249    0.01\n",
       " 21    22   0.709086  0.804968    0.7244    0.01\n",
       " 22    23   0.693056  0.818062   0.72154    0.01\n",
       " 23    24   0.685419  0.801543  0.725167    0.01\n",
       " 24    25   0.674125  0.788552  0.728237    0.01\n",
       " 25    26   0.656909  0.785493  0.730678    0.01\n",
       " 26    27   0.653305  0.781476  0.732457    0.01\n",
       " 27    28   0.642066  0.764311  0.738944    0.01\n",
       " 28    29   0.631783  0.773655  0.738386    0.01\n",
       " 29    30   0.615153  0.777145  0.741176    0.01\n",
       " 30    31   0.610982  0.764206  0.737305    0.01\n",
       " 31    32   0.606565  0.761789  0.741629    0.01\n",
       " 32    33    0.60092  0.753756  0.743827    0.01\n",
       " 33    34   0.585689  0.751165  0.745361    0.01\n",
       " 34    35   0.580464  0.730059  0.754918    0.01\n",
       " 35    36   0.571429   0.75627   0.74156    0.01\n",
       " 36    37   0.570651  0.764931  0.745361    0.01\n",
       " 37    38    0.56098  0.732767  0.752023    0.01\n",
       " 38    39    0.55413  0.731921   0.75293    0.01\n",
       " 39    40   0.538874  0.733849   0.75293    0.01\n",
       " 40    41   0.541426  0.727487  0.753732    0.01\n",
       " 41    42   0.529414  0.749481  0.751011    0.01\n",
       " 42    43   0.531264  0.737092  0.751465    0.01\n",
       " 43    44   0.519254  0.746256  0.752511    0.01\n",
       " 44    45   0.518129  0.740348  0.750942    0.01\n",
       " 45    46   0.518851  0.728752  0.757359    0.01\n",
       " 46    47    0.50904  0.709255  0.763707    0.01\n",
       " 47    48   0.497672  0.752253  0.752128    0.01\n",
       " 48    49   0.500248   0.77365  0.744594    0.01\n",
       " 49    50   0.491861  0.719938  0.761823    0.01\n",
       " 50    51   0.483117  0.715903  0.760847    0.01\n",
       " 51    52   0.487634  0.713557  0.760672    0.01\n",
       " 52    53   0.478137  0.759309  0.754883    0.01\n",
       " 53    54   0.480049  0.733388  0.760463    0.01\n",
       " 54    55   0.466291  0.755542  0.754185    0.01\n",
       " 55    56   0.465994  0.724679  0.762033   0.005\n",
       " 56    57   0.365718  0.711745  0.771589   0.005\n",
       " 57    58   0.333739  0.705038  0.776193   0.005\n",
       " 58    59   0.320739  0.731382  0.771798   0.005\n",
       " 59    60   0.317561  0.745704   0.76995   0.005\n",
       " 60    61   0.308681  0.749381  0.769985   0.005\n",
       " 61    62   0.304449   0.76524  0.768066   0.005\n",
       " 62    63    0.30202  0.777991  0.766148   0.005\n",
       " 63    64   0.297294  0.772977  0.768101   0.005\n",
       " 64    65   0.286137  0.804453  0.763218   0.005\n",
       " 65    66   0.286355  0.797076  0.764509   0.005\n",
       " 66    67   0.279994  0.803468  0.762416  0.0025\n",
       " 67    68   0.215047  0.810048  0.768834  0.0025\n",
       " 68    69   0.192751  0.830303  0.768729  0.0025\n",
       " 69    70   0.181981  0.853964  0.765276  0.0025\n",
       " 70    71   0.176213  0.868042  0.767194  0.0025\n",
       " 71    72    0.16968   0.88504  0.764335  0.0025\n",
       " 72    73   0.164423  0.904366  0.760951  0.0025,\n",
       "    epoch train_loss  val_loss       acc      lr\n",
       " 0      1   2.594142   2.13686  0.280239    0.01\n",
       " 1      2   1.926765  1.698986  0.414621    0.01\n",
       " 2      3   1.606104  1.471304  0.498744    0.01\n",
       " 3      4   1.375501  1.326705  0.541434    0.01\n",
       " 4      5   1.235537  1.185798   0.59239    0.01\n",
       " 5      6   1.144971  1.130344  0.615025    0.01\n",
       " 6      7   1.065866  1.085849   0.63201    0.01\n",
       " 7      8   1.013469  1.042143  0.640904    0.01\n",
       " 8      9   0.980619  0.977649  0.664097    0.01\n",
       " 9     10    0.94257  0.972487  0.668213    0.01\n",
       " 10    11   0.904907  0.928556   0.68178    0.01\n",
       " 11    12   0.888614  0.949975  0.674909    0.01\n",
       " 12    13   0.857886  0.898729  0.685652    0.01\n",
       " 13    14   0.843088  0.914101  0.683943    0.01\n",
       " 14    15   0.824141  0.870127  0.701207    0.01\n",
       " 15    16   0.801236   0.87438  0.700195    0.01\n",
       " 16    17    0.79233  0.839179  0.708426    0.01\n",
       " 17    18    0.77245  0.834793  0.710624    0.01\n",
       " 18    19   0.762861  0.814516   0.71861    0.01\n",
       " 19    20   0.750566  0.846792  0.712472    0.01\n",
       " 20    21   0.743222  0.813348  0.719134    0.01\n",
       " 21    22   0.725971  0.827584  0.715751    0.01\n",
       " 22    23   0.715033  0.810209  0.719587    0.01\n",
       " 23    24   0.706931  0.813667  0.721401    0.01\n",
       " 24    25   0.694192  0.804264  0.723458    0.01\n",
       " 25    26   0.682285  0.788228  0.728341    0.01\n",
       " 26    27   0.679112  0.793083  0.727121    0.01\n",
       " 27    28   0.661458  0.780113  0.733085    0.01\n",
       " 28    29   0.652018  0.766202  0.736747    0.01\n",
       " 29    30   0.651225  0.786566  0.733119    0.01\n",
       " 30    31   0.635074  0.763488  0.737653    0.01\n",
       " 31    32   0.626454  0.744715  0.743304    0.01\n",
       " 32    33   0.612642  0.749864  0.745396    0.01\n",
       " 33    34   0.614636  0.744631  0.746164    0.01\n",
       " 34    35   0.602601  0.767947  0.738665    0.01\n",
       " 35    36   0.596937  0.751662  0.744106    0.01\n",
       " 36    37   0.589271  0.717954  0.754743    0.01\n",
       " 37    38   0.581508  0.741833  0.744176    0.01\n",
       " 38    39   0.570464  0.751656  0.746512    0.01\n",
       " 39    40   0.573695  0.751183  0.744699    0.01\n",
       " 40    41   0.566525  0.724501  0.753488    0.01\n",
       " 41    42    0.56527   0.70629  0.759975    0.01\n",
       " 42    43   0.550533  0.716628  0.758405    0.01\n",
       " 43    44   0.545394  0.718284   0.75722    0.01\n",
       " 44    45   0.545525  0.731928  0.753104    0.01\n",
       " 45    46   0.531507  0.726241    0.7515    0.01\n",
       " 46    47    0.52889  0.721436  0.757254    0.01\n",
       " 47    48   0.520429  0.710456  0.758475    0.01\n",
       " 48    49   0.518265  0.713651  0.760184    0.01\n",
       " 49    50   0.507358  0.724462  0.757743    0.01\n",
       " 50    51   0.511682  0.711787  0.762242   0.005\n",
       " 51    52   0.415983  0.661667  0.779332   0.005\n",
       " 52    53   0.384164   0.67214  0.778251   0.005\n",
       " 53    54   0.375237  0.690851  0.775251   0.005\n",
       " 54    55   0.371261  0.697689  0.774449   0.005\n",
       " 55    56   0.364456   0.71462  0.770857   0.005\n",
       " 56    57   0.357688  0.708223  0.773612   0.005\n",
       " 57    58   0.352446  0.721659  0.774379   0.005\n",
       " 58    59   0.344494  0.730712  0.771136   0.005\n",
       " 59    60   0.342359  0.736567  0.767543   0.005\n",
       " 60    61    0.33956  0.728454   0.77138  0.0025\n",
       " 61    62   0.273678  0.723917  0.779506  0.0025\n",
       " 62    63   0.253197  0.749095  0.776751  0.0025\n",
       " 63    64   0.244757  0.761127  0.774379  0.0025\n",
       " 64    65   0.238035  0.764954  0.772077  0.0025\n",
       " 65    66   0.232448  0.772287  0.773577  0.0025\n",
       " 66    67   0.224831  0.795341  0.771554  0.0025,\n",
       "    epoch train_loss  val_loss       acc      lr\n",
       " 0      1   2.599025  2.160206  0.290109    0.01\n",
       " 1      2   1.960074  1.750542  0.410226    0.01\n",
       " 2      3   1.624562  1.518667  0.478516    0.01\n",
       " 3      4   1.368165  1.309894  0.552979    0.01\n",
       " 4      5   1.220215  1.189866  0.588623    0.01\n",
       " 5      6   1.119845   1.08922  0.631557    0.01\n",
       " 6      7    1.04466  1.039354  0.642997    0.01\n",
       " 7      8   0.985378  0.998251  0.653843    0.01\n",
       " 8      9    0.94377  0.988323  0.662354    0.01\n",
       " 9     10   0.922374   0.92796  0.681501    0.01\n",
       " 10    11   0.884732   0.91851  0.686349    0.01\n",
       " 11    12   0.874623  0.898277  0.691232    0.01\n",
       " 12    13   0.839744  0.876649  0.697754    0.01\n",
       " 13    14   0.824613   0.88773  0.693255    0.01\n",
       " 14    15   0.801443  0.857738  0.705566    0.01\n",
       " 15    16   0.789464  0.851282  0.707415    0.01\n",
       " 16    17   0.768003  0.838359  0.712507    0.01\n",
       " 17    18   0.756952  0.836374  0.715437    0.01\n",
       " 18    19     0.7405  0.814892  0.719657    0.01\n",
       " 19    20   0.729271  0.812358  0.720459    0.01\n",
       " 20    21   0.714903  0.803169  0.723807    0.01\n",
       " 21    22   0.702667   0.81886  0.719482    0.01\n",
       " 22    23   0.687624  0.781793  0.731585    0.01\n",
       " 23    24   0.680315  0.785614   0.73019    0.01\n",
       " 24    25   0.667274  0.766592  0.733573    0.01\n",
       " 25    26    0.65424  0.757814  0.737863    0.01\n",
       " 26    27   0.646852  0.755918  0.740165    0.01\n",
       " 27    28   0.647168  0.757488  0.742501    0.01\n",
       " 28    29   0.629371  0.746756   0.74292    0.01\n",
       " 29    30   0.622026  0.754987  0.740269    0.01\n",
       " 30    31   0.614363  0.728696    0.7485    0.01\n",
       " 31    32   0.603995  0.749382  0.743548    0.01\n",
       " 32    33    0.59755  0.721086    0.7515    0.01\n",
       " 33    34   0.592029  0.759027  0.737863    0.01\n",
       " 34    35   0.579429  0.720138  0.752546    0.01\n",
       " 35    36   0.571612  0.744899  0.744594    0.01\n",
       " 36    37   0.563816  0.731549  0.750384    0.01\n",
       " 37    38   0.562951  0.727617   0.75422    0.01\n",
       " 38    39   0.553365  0.741166  0.749268    0.01\n",
       " 39    40    0.55193   0.71308  0.754395    0.01\n",
       " 40    41   0.540387   0.71361  0.758371    0.01\n",
       " 41    42   0.539932  0.705248  0.760742    0.01\n",
       " 42    43   0.537738  0.711702  0.758336    0.01\n",
       " 43    44   0.524661  0.716055  0.757987    0.01\n",
       " 44    45   0.517518   0.74056  0.752337    0.01\n",
       " 45    46   0.514977  0.696679  0.765834    0.01\n",
       " 46    47   0.506016  0.728752   0.75722    0.01\n",
       " 47    48   0.502725  0.722853  0.759138    0.01\n",
       " 48    49   0.500839  0.712802  0.760951    0.01\n",
       " 49    50   0.501636  0.701399  0.762835    0.01\n",
       " 50    51   0.486695    0.7685  0.744943    0.01\n",
       " 51    52   0.495077  0.720764  0.759696    0.01\n",
       " 52    53    0.48999  0.716463  0.761091    0.01\n",
       " 53    54   0.471136  0.710626  0.764509    0.01\n",
       " 54    55   0.474441  0.711364  0.764474   0.005\n",
       " 55    56   0.375661  0.664101  0.780099   0.005\n",
       " 56    57   0.344175  0.686251   0.77975   0.005\n",
       " 57    58   0.334715  0.701063  0.774449   0.005\n",
       " 58    59   0.326636   0.70659  0.776437   0.005\n",
       " 59    60   0.321714  0.732233  0.771624   0.005\n",
       " 60    61   0.319947  0.729917  0.772252   0.005\n",
       " 61    62   0.307187  0.734995  0.773089   0.005\n",
       " 62    63   0.311524  0.751382   0.76838   0.005\n",
       " 63    64    0.29967  0.769821  0.764021   0.005\n",
       " 64    65   0.293392  0.766601  0.770124  0.0025\n",
       " 65    66   0.234158  0.755254  0.778041  0.0025\n",
       " 66    67   0.208261  0.786705  0.774588  0.0025\n",
       " 67    68   0.199481  0.795212  0.773333  0.0025\n",
       " 68    69   0.193226  0.818897  0.770961  0.0025\n",
       " 69    70   0.187285  0.820359  0.772077  0.0025\n",
       " 70    71   0.181363  0.843451  0.769357  0.0025,\n",
       "    epoch train_loss  val_loss       acc      lr\n",
       " 0      1   2.642919  2.159035  0.268764    0.01\n",
       " 1      2   2.007707  1.769033  0.398507    0.01\n",
       " 2      3   1.646548  1.481831  0.493722    0.01\n",
       " 3      4   1.395457  1.300062  0.554548    0.01\n",
       " 4      5   1.218164  1.163905  0.607806    0.01\n",
       " 5      6   1.112197  1.107281  0.621233    0.01\n",
       " 6      7   1.061048   1.07862  0.629674    0.01\n",
       " 7      8   1.014761  1.030004  0.646554    0.01\n",
       " 8      9   0.973256  1.016398  0.650739    0.01\n",
       " 9     10   0.941767   0.97283  0.664272    0.01\n",
       " 10    11   0.911775  0.937009  0.677525    0.01\n",
       " 11    12    0.88203  0.928371  0.681745    0.01\n",
       " 12    13   0.872697  0.925973  0.681222    0.01\n",
       " 13    14   0.840539  0.885291  0.697859    0.01\n",
       " 14    15   0.830113  0.898034  0.697859    0.01\n",
       " 15    16   0.808363  0.856441  0.705532    0.01\n",
       " 16    17   0.793167  0.855392  0.705148    0.01\n",
       " 17    18   0.779911  0.848046  0.710135    0.01\n",
       " 18    19   0.754254  0.845162  0.708147    0.01\n",
       " 19    20   0.744962  0.839925   0.71439    0.01\n",
       " 20    21   0.731354  0.822454  0.719064    0.01\n",
       " 21    22   0.718415  0.798628  0.727295    0.01\n",
       " 22    23   0.703717  0.821073  0.720459    0.01\n",
       " 23    24   0.690464  0.800081  0.728167    0.01\n",
       " 24    25   0.683318  0.773581  0.735282    0.01\n",
       " 25    26   0.666016  0.763917  0.741595    0.01\n",
       " 26    27   0.658983  0.777548  0.735944    0.01\n",
       " 27    28   0.652338  0.753303  0.743373    0.01\n",
       " 28    29   0.637755  0.775752  0.735421    0.01\n",
       " 29    30   0.632216  0.790802  0.733119    0.01\n",
       " 30    31   0.615478  0.742433   0.74993    0.01\n",
       " 31    32   0.609599   0.74023  0.747942    0.01\n",
       " 32    33   0.597731  0.725243  0.752128    0.01\n",
       " 33    34   0.590864  0.743295  0.750384    0.01\n",
       " 34    35    0.58491  0.726326  0.752093    0.01\n",
       " 35    36   0.582317   0.72802  0.756801    0.01\n",
       " 36    37   0.576093   0.71937   0.75715    0.01\n",
       " 37    38   0.574145  0.713017  0.760045    0.01\n",
       " 38    39   0.565004  0.738881  0.752372    0.01\n",
       " 39    40   0.554936  0.707684   0.76144    0.01\n",
       " 40    41   0.549326  0.713254  0.761475    0.01\n",
       " 41    42   0.543761  0.727618  0.756034    0.01\n",
       " 42    43   0.541569  0.744481  0.749616    0.01\n",
       " 43    44   0.539161  0.720285  0.757952    0.01\n",
       " 44    45   0.525916  0.699892  0.762277    0.01\n",
       " 45    46   0.516867  0.707335  0.766392    0.01\n",
       " 46    47   0.520307  0.724196  0.756627    0.01\n",
       " 47    48   0.510343  0.741234  0.755615    0.01\n",
       " 48    49    0.51315  0.712206  0.763288    0.01\n",
       " 49    50   0.500511  0.688818   0.76995    0.01\n",
       " 50    51   0.498383  0.711798  0.766671    0.01\n",
       " 51    52   0.489479  0.730502  0.756313    0.01\n",
       " 52    53   0.490781  0.707175  0.767404    0.01\n",
       " 53    54   0.477945  0.732535  0.759556    0.01\n",
       " 54    55   0.485036  0.726063  0.764021    0.01\n",
       " 55    56   0.478078  0.700914   0.76988    0.01\n",
       " 56    57   0.473924  0.708918  0.765625    0.01\n",
       " 57    58    0.46934  0.729226  0.764056    0.01\n",
       " 58    59   0.465855  0.720239  0.766323   0.005\n",
       " 59    60   0.370014  0.669035   0.78704   0.005\n",
       " 60    61   0.336928  0.682899  0.783203   0.005\n",
       " 61    62   0.330199  0.713503  0.777169   0.005\n",
       " 62    63   0.321246  0.709778  0.780692   0.005\n",
       " 63    64   0.314676  0.717044  0.778983   0.005\n",
       " 64    65   0.308082  0.730212  0.775286   0.005\n",
       " 65    66   0.303628  0.742952  0.774519   0.005\n",
       " 66    67   0.301513  0.747049  0.774902   0.005\n",
       " 67    68   0.297759  0.759891  0.769148   0.005\n",
       " 68    69   0.289784  0.759753  0.775146  0.0025\n",
       " 69    70   0.230067  0.759626  0.779227  0.0025\n",
       " 70    71   0.209305  0.788609  0.775391  0.0025\n",
       " 71    72   0.201212  0.802655  0.775321  0.0025\n",
       " 72    73   0.192891  0.811307  0.775565  0.0025\n",
       " 73    74    0.18578  0.824069   0.77546  0.0025\n",
       " 74    75   0.181607  0.850435  0.771938  0.0025]"
      ]
     },
     "execution_count": 12,
     "metadata": {},
     "output_type": "execute_result"
    }
   ],
   "source": [
    "cross_validator.histories"
   ]
  },
  {
   "cell_type": "code",
   "execution_count": 11,
   "metadata": {},
   "outputs": [
    {
     "name": "stdout",
     "output_type": "stream",
     "text": [
      "Best model saved!\n"
     ]
    }
   ],
   "source": [
    "# Save model\n",
    "\n",
    "today = datetime.today().strftime('%Y-%m-%d %H:%M:%S')\n",
    "\n",
    "best_model = model\n",
    "EPOCH = epochs\n",
    "PATH_MODEL = f\"checkpoints/{today}_best_{EPOCH}.pt\"\n",
    "LOSS = cross_validator.best_val_losses[np.argmax(cross_validator.best_val_losses)]\n",
    "PARAMS = LSTM_params\n",
    "HISTORY = cross_validator.histories\n",
    "torch.save({\n",
    "            'epoch': EPOCH,\n",
    "            'model_state_dict': best_model.state_dict(),\n",
    "            'loss': LOSS,\n",
    "            'PARAMS': PARAMS,\n",
    "            'HISTORY':HISTORY\n",
    "            }, PATH_MODEL)\n",
    "\n",
    "print(\"Best model saved!\")"
   ]
  },
  {
   "cell_type": "code",
   "execution_count": 17,
   "metadata": {},
   "outputs": [
    {
     "name": "stdout",
     "output_type": "stream",
     "text": [
      "Using cuda:0.\n",
      "biLSTMClassifier(\n",
      "  (norm): LayerNorm((100, 35), eps=1e-05, elementwise_affine=True)\n",
      "  (LSTM): LSTM(35, 128, num_layers=2, bidirectional=True)\n",
      "  (MLP): Sequential(\n",
      "    (dense_1): Linear(in_features=512, out_features=256, bias=True)\n",
      "    (act_1): SELU()\n",
      "    (dense_2): Linear(in_features=256, out_features=24, bias=True)\n",
      "  )\n",
      "  (embed_venue): Embedding(6, 8)\n",
      "  (embed_action): Embedding(3, 8)\n",
      "  (embed_trade): Embedding(2, 8)\n",
      ")\n",
      "Val loss of this model: 0.705037806715284\n",
      "Making submission submissions/2024-02-03 14:49:29-biLSTM_2-layers_100.csv...\n",
      "Replaced 10 abnormal observations.\n",
      "Feature engineering completed: 14 features.\n"
     ]
    },
    {
     "name": "stderr",
     "output_type": "stream",
     "text": [
      "Predicting: 100%|██████████| 160/160 [00:02<00:00, 55.01it/s]\n"
     ]
    },
    {
     "name": "stdout",
     "output_type": "stream",
     "text": [
      "Submission done!\n"
     ]
    }
   ],
   "source": [
    "# Submission\n",
    "\n",
    "device = get_device()\n",
    "print(f\"Using {device}.\")\n",
    "\n",
    "PATH_MODEL = \"/home/hugocth/repos/kaggle/CFM_HFT/checkpoints/2024-02-02 03:48:38_best_100.pt\"\n",
    "\n",
    "test_data = raw_test_data.copy()\n",
    "\n",
    "MLP_params = {\n",
    "    \"in_features\":LSTM_params[\"hidden_size\"],\n",
    "    \"n_layers\":2, # max 3\n",
    "    \"out_features\":24,\n",
    "}\n",
    "\n",
    "\n",
    "trained_model = torch.load(PATH_MODEL)\n",
    "model = biLSTMClassifier(trained_model[\"PARAMS\"], MLP_params, embeddings)\n",
    "model.load_state_dict(trained_model[\"model_state_dict\"])\n",
    "model.to(device)\n",
    "print(model)\n",
    "print(f\"Val loss of this model: {trained_model['loss']}\")\n",
    "\n",
    "today = datetime.today().strftime('%Y-%m-%d %H:%M:%S')\n",
    "PATH_SUB = f\"submissions/{today}-biLSTM_2-layers_{trained_model['epoch']}.csv\"\n",
    "\n",
    "def make_submission(x_test, model, path, batch_size=512):\n",
    "    print(f\"Making submission {PATH_SUB}...\")\n",
    "    x_test = replace_abnormal(x_test)\n",
    "    x_test, x_cols = add_features(x_test, embeddings=embeddings)\n",
    "    test_dataloader = DataLoader(TestDataset(x_test, x_cols), batch_size=batch_size, shuffle=False, drop_last=False)\n",
    "    preds = []\n",
    "    for batch, X in enumerate(tqdm(test_dataloader, desc=\"Predicting\")):\n",
    "        preds += list(predict(X, model).astype(int))\n",
    "    sub_df = pd.DataFrame(preds, columns=[\"eqt_code_cat\"])\n",
    "    sub_df.index.names = [\"obs_id\"]\n",
    "    sub_df.to_csv(path)\n",
    "    print(\"Submission done!\")\n",
    "\n",
    "make_submission(test_data, model, PATH_SUB)"
   ]
  }
 ],
 "metadata": {
  "kernelspec": {
   "display_name": "ds",
   "language": "python",
   "name": "python3"
  },
  "language_info": {
   "codemirror_mode": {
    "name": "ipython",
    "version": 3
   },
   "file_extension": ".py",
   "mimetype": "text/x-python",
   "name": "python",
   "nbconvert_exporter": "python",
   "pygments_lexer": "ipython3",
   "version": "3.8.18"
  }
 },
 "nbformat": 4,
 "nbformat_minor": 2
}
